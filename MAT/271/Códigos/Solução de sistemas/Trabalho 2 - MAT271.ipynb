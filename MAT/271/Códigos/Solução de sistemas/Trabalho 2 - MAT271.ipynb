{
 "cells": [
  {
   "cell_type": "code",
   "execution_count": 1,
   "id": "67afed28",
   "metadata": {
    "ExecuteTime": {
     "end_time": "2021-10-06T22:27:58.869938Z",
     "start_time": "2021-10-06T22:27:42.678855Z"
    }
   },
   "outputs": [],
   "source": [
    "from LinSys import SisLin\n",
    "from math import sin,cos,pi,log,sqrt,exp"
   ]
  },
  {
   "cell_type": "code",
   "execution_count": 2,
   "id": "8f99dfaa",
   "metadata": {
    "ExecuteTime": {
     "end_time": "2021-10-06T22:27:59.373466Z",
     "start_time": "2021-10-06T22:27:58.871937Z"
    }
   },
   "outputs": [
    {
     "name": "stdout",
     "output_type": "stream",
     "text": [
      "Minimo quadrado da matriz A_11:  1.0\n",
      "Minimo quadrado da matriz A_22:  1.0\n",
      "Minimo quadrado da matriz A_33:  1.0\n",
      "************** Matriz L ************** \n",
      "\n"
     ]
    },
    {
     "data": {
      "text/latex": [
       "$\\displaystyle \\left[\\begin{matrix}1.0 & 0.0 & 0.0\\\\-4.0 & 1.0 & 0.0\\\\4.0 & -2.0 & 1.0\\end{matrix}\\right]$"
      ],
      "text/plain": [
       "Matrix([\n",
       "[ 1.0,  0.0, 0.0],\n",
       "[-4.0,  1.0, 0.0],\n",
       "[ 4.0, -2.0, 1.0]])"
      ]
     },
     "metadata": {},
     "output_type": "display_data"
    },
    {
     "name": "stdout",
     "output_type": "stream",
     "text": [
      "************** Matriz U ************** \n",
      "\n"
     ]
    },
    {
     "data": {
      "text/latex": [
       "$\\displaystyle \\left[\\begin{matrix}1.0 & 1.0 & 0.0\\\\0.0 & 1.0 & 1.0\\\\0.0 & 0.0 & 1.0\\end{matrix}\\right]$"
      ],
      "text/plain": [
       "Matrix([\n",
       "[1.0, 1.0, 0.0],\n",
       "[0.0, 1.0, 1.0],\n",
       "[0.0, 0.0, 1.0]])"
      ]
     },
     "metadata": {},
     "output_type": "display_data"
    },
    {
     "name": "stdout",
     "output_type": "stream",
     "text": [
      "Vetor Y: [10. 25. 18.]\n",
      "Vetor X: [ 3.  7. 18.]\n"
     ]
    }
   ],
   "source": [
    "#Questão 1\n",
    "Q1_A = [[1,1,0],\n",
    "        [-4,-3,1],\n",
    "        [4,2,-1]]\n",
    "\n",
    "Q1_Y = [10,-15,8]\n",
    "\n",
    "Q1 = SisLin(Q1_A, Q1_Y)\n",
    "\n",
    "Q1.verifyLU()\n",
    "\n",
    "Q1.LU()\n",
    "\n",
    "Q1.goit()"
   ]
  },
  {
   "cell_type": "code",
   "execution_count": 3,
   "id": "8e487d5c",
   "metadata": {
    "ExecuteTime": {
     "end_time": "2021-10-01T14:00:14.742627Z",
     "start_time": "2021-10-01T14:00:14.721666Z"
    }
   },
   "outputs": [
    {
     "name": "stdout",
     "output_type": "stream",
     "text": [
      "Há garantia de convergencia pelo método de Jacobi-Richardson\n",
      "B =  [0.6666666666666666, 0.6000000000000001, 0.8]\n",
      "x_1:  [1.6667 0.4    0.6   ]\n",
      "x_2:  [1.9333 0.2133 0.2267]\n",
      "x_3:  [1.9956 0.1813 0.2853]\n",
      "x_4:  [1.9653 0.1447 0.2921]\n",
      "x_5:  [1.9509 0.1554 0.3201]\n",
      "x_6:  [1.9451 0.1556 0.3166]\n"
     ]
    }
   ],
   "source": [
    "#Questão 2\n",
    "Q2_A = [[3, -1, 1],\n",
    "        [2, 5, 1],\n",
    "        [1, 3, 5]]\n",
    "\n",
    "Q2_Y = [6,5,4]\n",
    "\n",
    "Q2 = SisLin(Q2_A, Q2_Y)\n",
    "\n",
    "Q2.verify_JR()\n",
    "\n",
    "Q2.Jacobi_Richardson(e=0.01,c=4,X0 = [1,0,1], lim=10)"
   ]
  },
  {
   "cell_type": "code",
   "execution_count": 4,
   "id": "768df8b7",
   "metadata": {
    "ExecuteTime": {
     "end_time": "2021-10-01T14:00:15.430834Z",
     "start_time": "2021-10-01T14:00:15.417879Z"
    }
   },
   "outputs": [
    {
     "name": "stdout",
     "output_type": "stream",
     "text": [
      "Há garantia de convergencia pelo método de Gauss-Seidel\n",
      "B =  [0.4        0.46666667 0.13333333]\n",
      "x_1:  [1.     1.3333 0.6333]\n",
      "x_2:  [0.6067 1.4133 0.6567]\n",
      "x_3:  [0.586  1.4142 0.6586]\n",
      "x_4:  [0.5854 1.4147 0.6585]\n"
     ]
    }
   ],
   "source": [
    "#Questão 3\n",
    "Q3_A = [[5, 1, 1],\n",
    "        [1, -3, 1],\n",
    "        [1, 2, 10]]\n",
    "\n",
    "Q3_Y = [5,-3,10]\n",
    "\n",
    "Q3 = SisLin(Q3_A, Q3_Y)\n",
    "\n",
    "Q3.verify_GS()\n",
    "\n",
    "Q3.Gauss_Seidel(e=0.01,c=4,X0 = [.0,.0,.0], lim=15)"
   ]
  },
  {
   "cell_type": "code",
   "execution_count": 5,
   "id": "4069e3d8",
   "metadata": {
    "ExecuteTime": {
     "end_time": "2021-10-01T14:00:16.135816Z",
     "start_time": "2021-10-01T14:00:16.120857Z"
    }
   },
   "outputs": [
    {
     "name": "stdout",
     "output_type": "stream",
     "text": [
      "Há garantia de convergencia pelo método de Jacobi-Richardson\n",
      "B =  [0.5, 0.4, 0.75]\n",
      "Há garantia de convergencia pelo método de Gauss-Seidel\n",
      "B =  [0.5    0.35   0.3375]\n",
      "x_1:  [1.25   2.575  1.7312]\n",
      "x_2:  [0.4234 2.1383 2.2537]\n",
      "x_3:  [0.402  1.9837 2.3031]\n",
      "x_4:  [0.4283 1.9662 2.2943]\n",
      "x_5:  [0.4349 1.9682 2.2905]\n"
     ]
    }
   ],
   "source": [
    "#Questão 4\n",
    "Q4_A = [[4,1,1],\n",
    "        [1,10,3],\n",
    "        [2,1,4]]\n",
    "\n",
    "Q4_Y = [6,27,12]\n",
    "\n",
    "Q4 = SisLin(Q4_A, Q4_Y)\n",
    "\n",
    "Q4.verify_JR()\n",
    "\n",
    "Q4.verify_GS()\n",
    "\n",
    "Q4.Gauss_Seidel(e=0.01,c=4,X0 = [.0,1,.0], lim=15)"
   ]
  },
  {
   "cell_type": "code",
   "execution_count": 6,
   "id": "7ccf5e11",
   "metadata": {
    "ExecuteTime": {
     "end_time": "2021-10-01T14:00:16.744331Z",
     "start_time": "2021-10-01T14:00:16.728374Z"
    }
   },
   "outputs": [
    {
     "name": "stdout",
     "output_type": "stream",
     "text": [
      "Não há garantia de convergencia pelo método de Gauss-Seidel.\n",
      "B_1 = 1.0000\n",
      "x_1:  [0.2    0.276  0.2663 0.2575 0.1287]\n",
      "x_2:  [0.276  0.3045 0.3035 0.2706 0.1353]\n"
     ]
    }
   ],
   "source": [
    "#Questão 5\n",
    "Q5_A = [[ 1, -1,  0,  0,  0],\n",
    "        [-1,  5, -1,  0,  0],\n",
    "        [ 0, -1,  5, -1,  0],\n",
    "        [ 0,  0, -1,  5, -1],\n",
    "        [ 0,  0,  0, -1,  2]]\n",
    "\n",
    "Q5_Y = [0,cos(0.2),cos(.3),cos(.4),0]\n",
    "\n",
    "Q5 = SisLin(Q5_A, Q5_Y)\n",
    "\n",
    "Q5.verify_GS()\n",
    "\n",
    "Q5.Gauss_Seidel(e=0.1,c=4,X0 = [.2,.2,.2,.1,.1], lim=15)"
   ]
  },
  {
   "cell_type": "code",
   "execution_count": null,
   "id": "836dca66",
   "metadata": {},
   "outputs": [],
   "source": []
  }
 ],
 "metadata": {
  "kernelspec": {
   "display_name": "Python 3",
   "language": "python",
   "name": "python3"
  },
  "language_info": {
   "codemirror_mode": {
    "name": "ipython",
    "version": 3
   },
   "file_extension": ".py",
   "mimetype": "text/x-python",
   "name": "python",
   "nbconvert_exporter": "python",
   "pygments_lexer": "ipython3",
   "version": "3.8.8"
  }
 },
 "nbformat": 4,
 "nbformat_minor": 5
}
