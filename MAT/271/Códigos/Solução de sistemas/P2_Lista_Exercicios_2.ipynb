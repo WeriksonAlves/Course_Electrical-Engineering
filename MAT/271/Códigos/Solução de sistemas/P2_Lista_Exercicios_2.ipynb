{
 "cells": [
  {
   "cell_type": "code",
   "execution_count": 1,
   "id": "3c92db85",
   "metadata": {
    "ExecuteTime": {
     "end_time": "2021-10-01T22:32:48.435173Z",
     "start_time": "2021-10-01T22:32:47.145619Z"
    }
   },
   "outputs": [],
   "source": [
    "from LinSys import SisLin"
   ]
  },
  {
   "cell_type": "code",
   "execution_count": 8,
   "id": "3e5dfdc6",
   "metadata": {
    "ExecuteTime": {
     "end_time": "2021-09-30T23:06:19.046117Z",
     "start_time": "2021-09-30T23:06:19.031244Z"
    }
   },
   "outputs": [],
   "source": [
    "Q8_A = [[3, -1, 1],\n",
    "        [2, 5, 1],\n",
    "        [1, 3, 5]]\n",
    "\n",
    "Q8_Y = [6,5,4]"
   ]
  },
  {
   "cell_type": "markdown",
   "id": "85e115ca",
   "metadata": {
    "heading_collapsed": true
   },
   "source": [
    "### Questão 01"
   ]
  },
  {
   "cell_type": "code",
   "execution_count": 9,
   "id": "1b268033",
   "metadata": {
    "ExecuteTime": {
     "end_time": "2021-09-30T23:06:19.581788Z",
     "start_time": "2021-09-30T23:06:19.048112Z"
    },
    "hidden": true
   },
   "outputs": [
    {
     "ename": "NameError",
     "evalue": "name 'Q1_A' is not defined",
     "output_type": "error",
     "traceback": [
      "\u001b[1;31m---------------------------------------------------------------------------\u001b[0m",
      "\u001b[1;31mNameError\u001b[0m                                 Traceback (most recent call last)",
      "\u001b[1;32m<ipython-input-9-c3274b52cff7>\u001b[0m in \u001b[0;36m<module>\u001b[1;34m\u001b[0m\n\u001b[1;32m----> 1\u001b[1;33m \u001b[0mQ1\u001b[0m \u001b[1;33m=\u001b[0m \u001b[0mSisLin\u001b[0m\u001b[1;33m(\u001b[0m\u001b[0mQ1_A\u001b[0m\u001b[1;33m,\u001b[0m \u001b[0mQ1_Y\u001b[0m\u001b[1;33m)\u001b[0m\u001b[1;33m\u001b[0m\u001b[1;33m\u001b[0m\u001b[0m\n\u001b[0m",
      "\u001b[1;31mNameError\u001b[0m: name 'Q1_A' is not defined"
     ]
    }
   ],
   "source": [
    "Q1 = SisLin(Q1_A, Q1_Y)"
   ]
  },
  {
   "cell_type": "code",
   "execution_count": null,
   "id": "168b6b9a",
   "metadata": {
    "ExecuteTime": {
     "end_time": "2021-09-30T23:06:19.583772Z",
     "start_time": "2021-09-30T23:06:18.113Z"
    },
    "hidden": true
   },
   "outputs": [],
   "source": [
    "Q1.LU()"
   ]
  },
  {
   "cell_type": "code",
   "execution_count": null,
   "id": "3d9a1905",
   "metadata": {
    "ExecuteTime": {
     "end_time": "2021-09-30T23:06:19.585767Z",
     "start_time": "2021-09-30T23:06:18.114Z"
    },
    "hidden": true
   },
   "outputs": [],
   "source": [
    "Q1.goit()"
   ]
  },
  {
   "cell_type": "markdown",
   "id": "82352142",
   "metadata": {},
   "source": [
    "### Questão 02"
   ]
  },
  {
   "cell_type": "code",
   "execution_count": null,
   "id": "d0407fbc",
   "metadata": {
    "ExecuteTime": {
     "end_time": "2021-09-30T23:06:19.585767Z",
     "start_time": "2021-09-30T23:06:18.115Z"
    }
   },
   "outputs": [],
   "source": [
    "Q2_A = [[8, 5, 6],\n",
    "        [2, 3, 1],\n",
    "        [6, 1, 3]]\n",
    "\n",
    "Q2_Y = [19, 6, 10]"
   ]
  },
  {
   "cell_type": "code",
   "execution_count": null,
   "id": "9207d21c",
   "metadata": {
    "ExecuteTime": {
     "end_time": "2021-09-30T23:06:19.587761Z",
     "start_time": "2021-09-30T23:06:18.116Z"
    }
   },
   "outputs": [],
   "source": [
    "Q2 = SisLin(Q2_A, Q2_Y)"
   ]
  },
  {
   "cell_type": "code",
   "execution_count": null,
   "id": "52d62ba4",
   "metadata": {
    "ExecuteTime": {
     "end_time": "2021-09-30T23:06:19.588760Z",
     "start_time": "2021-09-30T23:06:18.118Z"
    }
   },
   "outputs": [],
   "source": [
    "Q2.LU()"
   ]
  },
  {
   "cell_type": "code",
   "execution_count": null,
   "id": "a109acc8",
   "metadata": {
    "ExecuteTime": {
     "end_time": "2021-09-30T23:06:19.589757Z",
     "start_time": "2021-09-30T23:06:18.120Z"
    }
   },
   "outputs": [],
   "source": [
    "Q2.goit()"
   ]
  },
  {
   "cell_type": "markdown",
   "id": "dd381bc2",
   "metadata": {},
   "source": [
    "### Questão 3"
   ]
  },
  {
   "cell_type": "code",
   "execution_count": null,
   "id": "e3380fcf",
   "metadata": {
    "ExecuteTime": {
     "end_time": "2021-09-30T23:06:19.591751Z",
     "start_time": "2021-09-30T23:06:18.121Z"
    }
   },
   "outputs": [],
   "source": [
    "Q3_A = [[2, 1, 3, 4],\n",
    "        [6,5,10,18],\n",
    "        [2,5,8,17],\n",
    "        [10,7,22,29]]\n",
    "\n",
    "Q3_Y = [7, 32, 28, 46]\n",
    "\n",
    "Q3 = SisLin(Q3_A, Q3_Y)"
   ]
  },
  {
   "cell_type": "code",
   "execution_count": null,
   "id": "ecdb5fed",
   "metadata": {
    "ExecuteTime": {
     "end_time": "2021-09-30T23:06:19.593746Z",
     "start_time": "2021-09-30T23:06:18.124Z"
    }
   },
   "outputs": [],
   "source": [
    "Q3.LU()"
   ]
  },
  {
   "cell_type": "code",
   "execution_count": null,
   "id": "b123a778",
   "metadata": {
    "ExecuteTime": {
     "end_time": "2021-09-30T23:06:19.596738Z",
     "start_time": "2021-09-30T23:06:18.126Z"
    }
   },
   "outputs": [],
   "source": [
    "Q3.goit()"
   ]
  },
  {
   "cell_type": "markdown",
   "id": "0028c044",
   "metadata": {},
   "source": [
    "### Questão 4\n",
    "#### Não há garantinha de convergencia em nenhum dos dois métodos"
   ]
  },
  {
   "cell_type": "code",
   "execution_count": null,
   "id": "1cb72feb",
   "metadata": {
    "ExecuteTime": {
     "end_time": "2021-09-30T23:06:19.598733Z",
     "start_time": "2021-09-30T23:06:18.129Z"
    }
   },
   "outputs": [],
   "source": [
    "Q4_A = [[-9, 5, 6],\n",
    "        [2, 3, 1],\n",
    "        [-1, 1, -3]]\n",
    "\n",
    "Q4_Y = [11, 4, -2]\n",
    "\n",
    "Q4 = SisLin(Q4_A, Q4_Y)"
   ]
  },
  {
   "cell_type": "code",
   "execution_count": null,
   "id": "f6828ece",
   "metadata": {
    "ExecuteTime": {
     "end_time": "2021-09-30T23:06:19.600727Z",
     "start_time": "2021-09-30T23:06:18.130Z"
    }
   },
   "outputs": [],
   "source": [
    "Q4.Jacobi_Richardson(X0 = [.1, .2, .5], lim=3)"
   ]
  },
  {
   "cell_type": "code",
   "execution_count": null,
   "id": "e0db8a53",
   "metadata": {
    "ExecuteTime": {
     "end_time": "2021-09-30T23:06:19.602721Z",
     "start_time": "2021-09-30T23:06:18.132Z"
    }
   },
   "outputs": [],
   "source": [
    "Q4.Gauss_Seidel(X0 = [.1, .2, .5], lim=3)"
   ]
  },
  {
   "cell_type": "markdown",
   "id": "72a6b280",
   "metadata": {},
   "source": [
    "### Questão 5\n",
    "#### Alpha deverá ser maior que |5/16|"
   ]
  },
  {
   "cell_type": "code",
   "execution_count": null,
   "id": "fcdb0ecc",
   "metadata": {
    "ExecuteTime": {
     "end_time": "2021-09-30T23:06:19.603759Z",
     "start_time": "2021-09-30T23:06:18.136Z"
    }
   },
   "outputs": [],
   "source": [
    "Q5_A = [[4, -2, 1],\n",
    "        [2, -9, -3],\n",
    "        [1, -1, -8]]\n",
    "\n",
    "Q5_Y =[3, -1, 3]\n",
    "\n",
    "Q5 = SisLin(Q5_A, Q5_Y)"
   ]
  },
  {
   "cell_type": "code",
   "execution_count": null,
   "id": "386c40df",
   "metadata": {
    "ExecuteTime": {
     "end_time": "2021-09-30T23:06:19.604718Z",
     "start_time": "2021-09-30T23:06:18.138Z"
    }
   },
   "outputs": [],
   "source": [
    "Q5.Gauss_Seidel(0.1)"
   ]
  },
  {
   "cell_type": "markdown",
   "id": "1bd22b52",
   "metadata": {},
   "source": [
    "### Questão 6\n",
    "#### Basta trocar a primeira linha com a segunda, e após isso trocar a ultima com a segunda, de forma que os numeros\n",
    "#### da diagonal principal seja o maior de suas respectivas linhas"
   ]
  },
  {
   "cell_type": "code",
   "execution_count": null,
   "id": "0f545569",
   "metadata": {
    "ExecuteTime": {
     "end_time": "2021-09-30T23:06:19.605715Z",
     "start_time": "2021-09-30T23:06:18.140Z"
    }
   },
   "outputs": [],
   "source": [
    "Q6_A = [[4, 1, 2],\n",
    "        [-1, 5, 3],\n",
    "        [4, 2, 6]]\n",
    "\n",
    "Q6_Y = [2, 3, 1]\n",
    "\n",
    "Q6 = SisLin(Q6_A, Q6_Y)"
   ]
  },
  {
   "cell_type": "code",
   "execution_count": null,
   "id": "9db7d7db",
   "metadata": {
    "ExecuteTime": {
     "end_time": "2021-09-30T23:06:19.606711Z",
     "start_time": "2021-09-30T23:06:18.141Z"
    }
   },
   "outputs": [],
   "source": [
    "Q6.Gauss_Seidel(0.01, lim=3)"
   ]
  },
  {
   "cell_type": "markdown",
   "id": "e459527f",
   "metadata": {},
   "source": [
    "### Questão 7\n",
    "#### Há garantia de convergência"
   ]
  },
  {
   "cell_type": "code",
   "execution_count": null,
   "id": "79764854",
   "metadata": {
    "ExecuteTime": {
     "end_time": "2021-09-30T23:06:19.607710Z",
     "start_time": "2021-09-30T23:06:18.143Z"
    }
   },
   "outputs": [],
   "source": [
    "Q7_A = [[5, 2, 1],\n",
    "        [-1, 4, 2],\n",
    "        [2, -3, 10]]\n",
    "\n",
    "Q7_Y = [-12, 20, 3]\n",
    "\n",
    "Q7 = SisLin(Q7_A, Q7_Y)"
   ]
  },
  {
   "cell_type": "code",
   "execution_count": null,
   "id": "5371da01",
   "metadata": {
    "ExecuteTime": {
     "end_time": "2021-09-30T23:06:19.609706Z",
     "start_time": "2021-09-30T23:06:18.145Z"
    }
   },
   "outputs": [],
   "source": [
    "Q7.Jacobi_Richardson(0.01)"
   ]
  },
  {
   "cell_type": "code",
   "execution_count": null,
   "id": "73e9e1b3",
   "metadata": {},
   "outputs": [],
   "source": []
  }
 ],
 "metadata": {
  "kernelspec": {
   "display_name": "Python 3",
   "language": "python",
   "name": "python3"
  },
  "language_info": {
   "codemirror_mode": {
    "name": "ipython",
    "version": 3
   },
   "file_extension": ".py",
   "mimetype": "text/x-python",
   "name": "python",
   "nbconvert_exporter": "python",
   "pygments_lexer": "ipython3",
   "version": "3.8.8"
  },
  "latex_envs": {
   "LaTeX_envs_menu_present": true,
   "autoclose": false,
   "autocomplete": true,
   "bibliofile": "biblio.bib",
   "cite_by": "apalike",
   "current_citInitial": 1,
   "eqLabelWithNumbers": true,
   "eqNumInitial": 1,
   "hotkeys": {
    "equation": "Ctrl-E",
    "itemize": "Ctrl-I"
   },
   "labels_anchors": false,
   "latex_user_defs": false,
   "report_style_numbering": false,
   "user_envs_cfg": false
  }
 },
 "nbformat": 4,
 "nbformat_minor": 5
}
