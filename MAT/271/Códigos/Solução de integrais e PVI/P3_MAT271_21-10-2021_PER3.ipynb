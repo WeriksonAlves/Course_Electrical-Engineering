{
 "cells": [
  {
   "cell_type": "code",
   "execution_count": 1,
   "id": "e06a181b",
   "metadata": {
    "ExecuteTime": {
     "end_time": "2022-03-02T13:14:05.894226Z",
     "start_time": "2022-03-02T13:14:04.701948Z"
    }
   },
   "outputs": [],
   "source": [
    "from sympy import * #var, Lambda, exp, log, sin, cos, tan, sqrt, ln\n",
    "from Integrais import *\n",
    "from Euler import *\n",
    "x,y = var('x y')"
   ]
  },
  {
   "cell_type": "code",
   "execution_count": 2,
   "id": "af3d4e91",
   "metadata": {
    "ExecuteTime": {
     "end_time": "2022-03-02T13:14:07.598823Z",
     "start_time": "2022-03-02T13:14:06.482913Z"
    }
   },
   "outputs": [
    {
     "name": "stdout",
     "output_type": "stream",
     "text": [
      "\n",
      " Após as definições temos a seguinte função:\n"
     ]
    },
    {
     "data": {
      "text/latex": [
       "$\\displaystyle x y^{2} - y$"
      ],
      "text/plain": [
       "x*y**2 - y"
      ]
     },
     "metadata": {},
     "output_type": "display_data"
    },
    {
     "name": "stdout",
     "output_type": "stream",
     "text": [
      "\n",
      "..........Método de Euler Ordem 1..........\n",
      "\n",
      "\n",
      " h =  0.25\n",
      "\n",
      " y[0.0000 ] é :  1.000000\n",
      "\n",
      " y[0.2500 ] é :  0.750000\n",
      "\n",
      " y[0.5000 ] é :  0.597656\n",
      "\n",
      " y[0.7500 ] é :  0.492891\n",
      "\n",
      " y[1.0000 ] é :  0.415220\n",
      "\n",
      " y[1.2500 ] é :  0.354517\n",
      "\n",
      " y[1.5000 ] é :  0.305163\n",
      "\n",
      " y[1.7500 ] é :  0.263794\n",
      "\n",
      " y[2.0000 ] é :  0.228290\n",
      "\n",
      " Portanto, temos que: \n",
      " |E1| < 0.03125\n",
      "\n",
      " Para uma melhor aproximação aumente o número de subintervalos\n"
     ]
    }
   ],
   "source": [
    "# Questão 1\n",
    "num = x*y**2 - y\n",
    "den = 1\n",
    "Fx = Lambda((x,y), num/den)\n",
    "x0 = 0 \n",
    "y0 = 1 \n",
    "b = 2\n",
    "n = 8 # Numero de divisões\n",
    "e = 0.01 # erro\n",
    "\n",
    "Q1 = Sol_Q(num, den, Fx, x0, y0, b, n, e)\n",
    "Q1.Runge_Kutta_Ordem_UM()"
   ]
  },
  {
   "cell_type": "code",
   "execution_count": 8,
   "id": "9e5f9bc4",
   "metadata": {
    "ExecuteTime": {
     "end_time": "2021-10-21T17:04:06.009924Z",
     "start_time": "2021-10-21T17:04:05.987927Z"
    }
   },
   "outputs": [
    {
     "name": "stdout",
     "output_type": "stream",
     "text": [
      "\n",
      " Após as definições temos a seguinte função:\n"
     ]
    },
    {
     "data": {
      "text/latex": [
       "$\\displaystyle 2 x + y$"
      ],
      "text/plain": [
       "2*x + y"
      ]
     },
     "metadata": {},
     "output_type": "display_data"
    },
    {
     "name": "stdout",
     "output_type": "stream",
     "text": [
      "\n",
      "..........Método de Euler Ordem 2..........\n",
      "\n",
      "\n",
      " h =  0.19999999999999998\n",
      "\n",
      " O vetor x é:  [0.  0.2 0.4 0.6]\n",
      "\n",
      " y[ 0 ] é :  0.000000\n",
      "\n",
      " y[ 1 ] é :  0.040000\n",
      "\n",
      " y[ 2 ] é :  0.176800\n",
      "\n",
      " y[ 3 ] é :  0.431696\n",
      "\n",
      " Portanto, temos que: \n",
      " |E1| < 0.04000\n",
      "\n",
      " Para uma melhor aproximação aumente o número de subintervalos\n"
     ]
    }
   ],
   "source": [
    "# Questão 2\n",
    "num = 2*x + y\n",
    "den = 1\n",
    "Fx = Lambda((x,y), num/den)\n",
    "x0 = 0 \n",
    "y0 = 0 \n",
    "b = 0.6\n",
    "n = 3 # Numero de divisões\n",
    "e = 0.01 # erro\n",
    "\n",
    "Q2 = Sol_Q(num, den, Fx, x0, y0, b, n, e)\n",
    "Q2.Runge_Kutta_Ordem_Dois()"
   ]
  },
  {
   "cell_type": "code",
   "execution_count": 9,
   "id": "3ffe9ce6",
   "metadata": {
    "ExecuteTime": {
     "end_time": "2021-10-21T17:05:33.253610Z",
     "start_time": "2021-10-21T17:05:32.484047Z"
    }
   },
   "outputs": [
    {
     "name": "stdout",
     "output_type": "stream",
     "text": [
      "\n",
      " Após as definições temos a seguinte função:\n"
     ]
    },
    {
     "data": {
      "text/latex": [
       "$\\displaystyle \\int\\limits_{0}^{3} \\sqrt{x^{2} + 4}\\, dx$"
      ],
      "text/plain": [
       "Integral(sqrt(x**2 + 4), (x, 0, 3))"
      ]
     },
     "metadata": {},
     "output_type": "display_data"
    },
    {
     "name": "stdout",
     "output_type": "stream",
     "text": [
      "\n",
      " ..........Simpson_3/8..........\n",
      "O valor de n está correto.\n",
      "\n",
      " O vetor x é:  [0.0, 0.5, 1.0, 1.5, 2.0, 2.5, 3.0]\n",
      "\n",
      " O vetor da resposta aproximada é:  [2.         2.06155281 2.23606798 2.5        2.82842712 3.20156212\n",
      " 3.60555128]\n",
      "\n",
      " A resposta aproximada da integral  é:   7.79782\n",
      " A resposta real da integral é:   7.79785\n",
      "\n",
      " O vetor f\"\" é:  [3/8, 0.227478966042626, 0, 0.0983040000000000, 0.0994368911043583, 0.0730915230986039, 0.0484763029928284] \n",
      " Sendo o maior valor:  3/8\n",
      "Portanto, temos que: \n",
      " |E2| = 0.00088  <  0.01\n"
     ]
    }
   ],
   "source": [
    "# Questão 3\n",
    "num = sqrt(4 + x**2)\n",
    "den = 1\n",
    "Fx = Lambda(x, num/den)\n",
    "a = 0 # Limite inferior\n",
    "b = 3 # Limite superior\n",
    "n = 6 # Numero de divisões\n",
    "e = 0.01 # erro\n",
    "\n",
    "Q3 = Sol_Int(num,den,Fx, a, b, n, e)\n",
    "\n",
    "Q3.Simpson_Tres_Oitavos()"
   ]
  },
  {
   "cell_type": "code",
   "execution_count": 10,
   "id": "4f1c3607",
   "metadata": {
    "ExecuteTime": {
     "end_time": "2021-10-21T17:07:03.300905Z",
     "start_time": "2021-10-21T17:07:02.739094Z"
    }
   },
   "outputs": [
    {
     "name": "stdout",
     "output_type": "stream",
     "text": [
      "\n",
      " Após as definições temos a seguinte função:\n"
     ]
    },
    {
     "data": {
      "text/latex": [
       "$\\displaystyle \\int\\limits_{0}^{2} x^{3} e^{2 x}\\, dx$"
      ],
      "text/plain": [
       "Integral(x**3*exp(2*x), (x, 0, 2))"
      ]
     },
     "metadata": {},
     "output_type": "display_data"
    },
    {
     "name": "stdout",
     "output_type": "stream",
     "text": [
      "..........Simpson_1/3..........\n",
      "O valor de n está correto.\n",
      "\n",
      " O vetor x é:  [0.0, 0.25, 0.5, 0.75, 1.0, 1.25, 1.5, 1.75, 2.0]\n",
      "\n",
      " O vetor da resposta aproximada é:  [0.00000000e+00 2.57612699e-02 3.39785229e-01 1.89071258e+00\n",
      " 7.38905610e+00 2.37939335e+01 6.77886871e+01 1.77478125e+02\n",
      " 4.36785200e+02]\n",
      "\n",
      " A resposta aproximada da integral  é: 116.71453\n",
      " A resposta real da integral é: 116.39607\n",
      "\n",
      " O vetor f\"\" é:  [48, 148.797094680687, 396.869146955021, 971.406105995776, 2246.27305407492, 4985.68565341790, 10725.6767169822, 22510.2284689211, 46299.2312281063] \n",
      " Sendo o maior valor:  46299.2312281063\n",
      "\n",
      " Portanto, temos que: \n",
      " |E1| < 2.00952\n",
      "\n",
      " Logo, para que (|E1|< 0.01 ) o número mínimo de subintervalos deve ser 31.\n"
     ]
    }
   ],
   "source": [
    "# Questão 4\n",
    "num = (x**3)*exp(2*x)\n",
    "den = 1\n",
    "Fx = Lambda(x, num/den)\n",
    "a = 0 # Limite inferior\n",
    "b = 2 # Limite superior\n",
    "n = 8 # Numero de divisões\n",
    "e = 0.01 # erro\n",
    "\n",
    "Q4 = Sol_Int(num,den,Fx, a, b, n, e)\n",
    "\n",
    "Q4.Simpson_Um_Terço()"
   ]
  },
  {
   "cell_type": "code",
   "execution_count": 6,
   "id": "3c84a1a1",
   "metadata": {
    "ExecuteTime": {
     "end_time": "2021-10-21T16:44:24.334494Z",
     "start_time": "2021-10-21T16:44:24.312553Z"
    }
   },
   "outputs": [
    {
     "data": {
      "text/plain": [
       "'\\nInforme os seguinte parametros para questões de Integrais\\nnum = cos(x)\\nden = x+2\\nFx = Lambda(x, num/den)\\na = 1 # Limite inferior\\nb = 2 # Limite superior\\nn = 6 # Numero de divisões\\ne = 0.01 # erro\\n\\n\\nInforme os seguinte parametros para questões de Euler\\nnum = (1/x**2)-(y/x)-(y**2)\\nden = 1\\nFx = Lambda((x,y), num/den)\\nx0 = 1 \\ny0 = -1 \\nb = 2\\nn = 10 # Numero de divisões\\ne = 0.01 # erro\\n'"
      ]
     },
     "execution_count": 6,
     "metadata": {},
     "output_type": "execute_result"
    }
   ],
   "source": [
    "'''\n",
    "Informe os seguinte parametros para questões de Integrais\n",
    "num = cos(x)\n",
    "den = x+2\n",
    "Fx = Lambda(x, num/den)\n",
    "a = 1 # Limite inferior\n",
    "b = 2 # Limite superior\n",
    "n = 6 # Numero de divisões\n",
    "e = 0.01 # erro\n",
    "\n",
    "\n",
    "Informe os seguinte parametros para questões de Euler\n",
    "num = (1/x**2)-(y/x)-(y**2)\n",
    "den = 1\n",
    "Fx = Lambda((x,y), num/den)\n",
    "x0 = 1 \n",
    "y0 = -1 \n",
    "b = 2\n",
    "n = 10 # Numero de divisões\n",
    "e = 0.01 # erro\n",
    "'''\n"
   ]
  },
  {
   "cell_type": "code",
   "execution_count": null,
   "id": "332ff4d2",
   "metadata": {},
   "outputs": [],
   "source": []
  }
 ],
 "metadata": {
  "kernelspec": {
   "display_name": "Python 3",
   "language": "python",
   "name": "python3"
  },
  "language_info": {
   "codemirror_mode": {
    "name": "ipython",
    "version": 3
   },
   "file_extension": ".py",
   "mimetype": "text/x-python",
   "name": "python",
   "nbconvert_exporter": "python",
   "pygments_lexer": "ipython3",
   "version": "3.8.8"
  }
 },
 "nbformat": 4,
 "nbformat_minor": 5
}
