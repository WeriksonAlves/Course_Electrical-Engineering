{
 "cells": [
  {
   "cell_type": "code",
   "execution_count": 1,
   "id": "9b5a1b64",
   "metadata": {
    "ExecuteTime": {
     "end_time": "2021-10-19T01:02:15.241370Z",
     "start_time": "2021-10-19T01:01:52.431016Z"
    }
   },
   "outputs": [],
   "source": [
    "from sympy import * #var, Lambda, exp, log, sin, cos, tan, sqrt, ln\n",
    "from Integrais import *\n",
    "x,y = var('x y')"
   ]
  },
  {
   "cell_type": "code",
   "execution_count": 2,
   "id": "2f4bfee7",
   "metadata": {
    "ExecuteTime": {
     "end_time": "2021-10-19T01:02:27.888396Z",
     "start_time": "2021-10-19T01:02:15.245359Z"
    }
   },
   "outputs": [
    {
     "name": "stdout",
     "output_type": "stream",
     "text": [
      "\n",
      " Após as definições temos a seguinte função:\n"
     ]
    },
    {
     "data": {
      "text/latex": [
       "$\\displaystyle \\int\\limits_{1}^{2} \\frac{\\cos{\\left(x \\right)}}{x + 2}\\, dx$"
      ],
      "text/plain": [
       "Integral(cos(x)/(x + 2), (x, 1, 2))"
      ]
     },
     "metadata": {},
     "output_type": "display_data"
    },
    {
     "name": "stdout",
     "output_type": "stream",
     "text": [
      "..........Método do Trapézio..........\n",
      "\n",
      " O vetor x é:  [1.0, 1.1666666666666667, 1.3333333333333335, 1.5000000000000002, 1.666666666666667, 1.8333333333333337, 2.0000000000000004]\n",
      "\n",
      " O vetor da resposta aproximada é:  [ 0.18010077  0.12417432  0.07057127  0.02021063 -0.02610642 -0.06770386\n",
      " -0.10403671]\n",
      "\n",
      " A resposta aproximada da integral  é:   0.02653\n",
      " A resposta real da integral é:   0.02621\n",
      "\n",
      " O vetor f\" é:  [0.0469151765840889, 0.0839713574700295, 0.117080379212861, 0.145945389834039, 0.170300039046801, 0.189931112755590, 0.204694298847898] \n",
      " Sendo o maior valor:  0.204694298847898\n",
      "Portanto, temos que: \n",
      " |E1| = 0.00047  <  0.01\n",
      "\n",
      "\n",
      "..........Simpson_1/3..........\n",
      "O valor de n está correto.\n",
      "\n",
      " O vetor x é:  [1.0, 1.1666666666666667, 1.3333333333333335, 1.5000000000000002, 1.666666666666667, 1.8333333333333337, 2.0000000000000004]\n",
      "\n",
      " O vetor da resposta aproximada é:  [ 0.18010077  0.12417432  0.07057127  0.02021063 -0.02610642 -0.06770386\n",
      " -0.10403671]\n",
      "\n",
      " A resposta aproximada da integral  é:   0.02621\n",
      " A resposta real da integral é:   0.02621\n",
      "\n",
      " O vetor f\"\" é:  [0.131332766957567, 0.142098396373915, 0.152879562950006, 0.162535107148636, 0.170257515260194, 0.175483725629611, 0.177840341707283] \n",
      " Sendo o maior valor:  0.177840341707283\n",
      "Portanto, temos que: \n",
      " |E2| = 0.00000  <  0.01\n",
      "\n",
      "\n",
      "\n",
      " ..........Simpson_3/8..........\n",
      "O valor de n está correto.\n",
      "\n",
      " O vetor x é:  [1.0, 1.1666666666666667, 1.3333333333333335, 1.5000000000000002, 1.666666666666667, 1.8333333333333337, 2.0000000000000004]\n",
      "\n",
      " O vetor da resposta aproximada é:  [ 0.18010077  0.12417432  0.07057127  0.02021063 -0.02610642 -0.06770386\n",
      " -0.10403671]\n",
      "\n",
      " A resposta aproximada da integral  é:   0.02621\n",
      " A resposta real da integral é:   0.02621\n",
      "\n",
      " O vetor f\"\" é:  [0.131332766957567, 0.142098396373915, 0.152879562950006, 0.162535107148636, 0.170257515260194, 0.175483725629611, 0.177840341707283] \n",
      " Sendo o maior valor:  0.177840341707283\n",
      "Portanto, temos que: \n",
      " |E2| = 0.00000  <  0.01\n"
     ]
    }
   ],
   "source": [
    "num = cos(x)\n",
    "den = x+2\n",
    "Fx = Lambda(x, num/den)\n",
    "a = 1 # Limite inferior\n",
    "b = 2 # Limite superior\n",
    "n = 6 # Numero de divisões\n",
    "e = 0.01 # erro\n",
    "\n",
    "Q1 = Sol_Int(num,den,Fx, a, b, n, e)\n",
    "\n",
    "Q1.Trapezio()\n",
    "print('\\n')\n",
    "Q1.Simpson_Um_Terço()\n",
    "print('\\n')\n",
    "Q1.Simpson_Tres_Oitavos()"
   ]
  },
  {
   "cell_type": "code",
   "execution_count": 3,
   "id": "0df4044d",
   "metadata": {
    "ExecuteTime": {
     "end_time": "2021-10-19T01:02:28.591212Z",
     "start_time": "2021-10-19T01:02:27.892346Z"
    }
   },
   "outputs": [
    {
     "name": "stdout",
     "output_type": "stream",
     "text": [
      "\n",
      " Após as definições temos a seguinte função:\n"
     ]
    },
    {
     "data": {
      "text/latex": [
       "$\\displaystyle \\int\\limits_{0}^{2} \\sqrt{x^{2} + 1}\\, dx$"
      ],
      "text/plain": [
       "Integral(sqrt(x**2 + 1), (x, 0, 2))"
      ]
     },
     "metadata": {},
     "output_type": "display_data"
    },
    {
     "name": "stdout",
     "output_type": "stream",
     "text": [
      "..........Método do Trapézio..........\n",
      "\n",
      " O vetor x é:  [0.0, 0.5, 1.0, 1.5, 2.0]\n",
      "\n",
      " O vetor da resposta aproximada é:  [1.         1.11803399 1.41421356 1.80277564 2.23606798]\n",
      "\n",
      " A resposta aproximada da integral  é:   2.97653\n",
      " A resposta real da integral é:   2.95789\n",
      "\n",
      " O vetor f\" é:  [1, 0.715541752799933, 0.353553390593274, 0.170676983453917, 0.0894427190999916] \n",
      " Sendo o maior valor:  1\n",
      "\n",
      " Portanto, temos que: \n",
      " |E1| < 0.04167\n",
      "\n",
      " Logo, para que (|E1|< 0.01 ) o número mínimo de subintervalos deve ser 9.\n"
     ]
    }
   ],
   "source": [
    "num = sqrt(1+x**2)\n",
    "den = 1\n",
    "Fx = Lambda(x, num/den)\n",
    "a = 0 # Limite inferior\n",
    "b = 2 # Limite superior\n",
    "n = 4 # Numero de divisões\n",
    "e = 0.01 # erro\n",
    "\n",
    "Q2 = Sol_Int(num,den,Fx, a, b, n, e)\n",
    "\n",
    "Q2.Trapezio()\n"
   ]
  },
  {
   "cell_type": "code",
   "execution_count": 4,
   "id": "69a1d86d",
   "metadata": {
    "ExecuteTime": {
     "end_time": "2021-10-19T01:02:29.092178Z",
     "start_time": "2021-10-19T01:02:28.597163Z"
    }
   },
   "outputs": [
    {
     "name": "stdout",
     "output_type": "stream",
     "text": [
      "\n",
      " Após as definições temos a seguinte função:\n"
     ]
    },
    {
     "data": {
      "text/latex": [
       "$\\displaystyle \\int\\limits_{0}^{1} \\frac{4}{x^{2} + 1}\\, dx$"
      ],
      "text/plain": [
       "Integral(4/(x**2 + 1), (x, 0, 1))"
      ]
     },
     "metadata": {},
     "output_type": "display_data"
    },
    {
     "name": "stdout",
     "output_type": "stream",
     "text": [
      "..........Simpson_1/3..........\n",
      "O valor de n está correto.\n",
      "\n",
      " O vetor x é:  [0.0, 0.1, 0.2, 0.30000000000000004, 0.4, 0.5, 0.6, 0.7, 0.7999999999999999, 0.8999999999999999, 0.9999999999999999]\n",
      "\n",
      " O vetor da resposta aproximada é:  [4.         3.96039604 3.84615385 3.66972477 3.44827586 3.2\n",
      " 2.94117647 2.68456376 2.43902439 2.20994475 2.        ]\n",
      "\n",
      " A resposta aproximada da integral  é:   3.14159\n",
      " A resposta real da integral é:   3.14159\n",
      "\n",
      " O vetor f\"\" é:  [96, 82.2523057622282, 47.9742413673298, 8.76627453839207, 21.5736329544483, 37.3555200000000, 40.2769433823265, 35.2876894512479, 27.1241415899698, 18.8749092858988, 12.0000000000000] \n",
      " Sendo o maior valor:  96\n",
      "Portanto, temos que: \n",
      " |E2| = 0.00005  <  0.01\n"
     ]
    }
   ],
   "source": [
    "num = 4\n",
    "den = 1+x**2\n",
    "Fx = Lambda(x, num/den)\n",
    "a = 0 # Limite inferior\n",
    "b = 1 # Limite superior\n",
    "n = 10 # Numero de divisões\n",
    "e = 0.01 # erro\n",
    "\n",
    "Q3 = Sol_Int(num,den,Fx, a, b, n, e)\n",
    "\n",
    "Q3.Simpson_Um_Terço()\n"
   ]
  },
  {
   "cell_type": "code",
   "execution_count": 5,
   "id": "3530f2e6",
   "metadata": {
    "ExecuteTime": {
     "end_time": "2021-10-13T17:55:18.336599Z",
     "start_time": "2021-10-13T17:54:14.926672Z"
    }
   },
   "outputs": [
    {
     "name": "stdout",
     "output_type": "stream",
     "text": [
      "\n",
      " Após as definições temos a seguinte função:\n"
     ]
    },
    {
     "data": {
      "text/latex": [
       "$\\displaystyle \\int\\limits_{1}^{4} \\log{\\left(x^{3} + \\sqrt{e^{x} + 1} \\right)}\\, dx$"
      ],
      "text/plain": [
       "Integral(log(x**3 + sqrt(exp(x) + 1)), (x, 1, 4))"
      ]
     },
     "metadata": {},
     "output_type": "display_data"
    },
    {
     "name": "stdout",
     "output_type": "stream",
     "text": [
      "\n",
      " ..........Simpson_3/8..........\n",
      "O valor de n está correto.\n",
      "\n",
      " O vetor x é:  [1.0, 1.5, 2.0, 2.5, 3.0, 3.5, 4.0]\n",
      "\n",
      " O vetor da resposta aproximada é:  [1.07441682 1.74332187 2.38843124 2.95781078 3.45290073 3.8860043\n",
      " 4.26908771]\n",
      "\n",
      " A resposta aproximada da integral  é:   8.56333\n"
     ]
    },
    {
     "ename": "KeyboardInterrupt",
     "evalue": "",
     "output_type": "error",
     "traceback": [
      "\u001b[1;31m---------------------------------------------------------------------------\u001b[0m",
      "\u001b[1;31mKeyboardInterrupt\u001b[0m                         Traceback (most recent call last)",
      "\u001b[1;32m<ipython-input-5-9baa3bee6b73>\u001b[0m in \u001b[0;36m<module>\u001b[1;34m\u001b[0m\n\u001b[0;32m      9\u001b[0m \u001b[0mQ4\u001b[0m \u001b[1;33m=\u001b[0m \u001b[0mSol_Int\u001b[0m\u001b[1;33m(\u001b[0m\u001b[0mnum\u001b[0m\u001b[1;33m,\u001b[0m\u001b[0mden\u001b[0m\u001b[1;33m,\u001b[0m\u001b[0mFx\u001b[0m\u001b[1;33m,\u001b[0m \u001b[0ma\u001b[0m\u001b[1;33m,\u001b[0m \u001b[0mb\u001b[0m\u001b[1;33m,\u001b[0m \u001b[0mn\u001b[0m\u001b[1;33m,\u001b[0m \u001b[0me\u001b[0m\u001b[1;33m)\u001b[0m\u001b[1;33m\u001b[0m\u001b[1;33m\u001b[0m\u001b[0m\n\u001b[0;32m     10\u001b[0m \u001b[1;33m\u001b[0m\u001b[0m\n\u001b[1;32m---> 11\u001b[1;33m \u001b[0mQ4\u001b[0m\u001b[1;33m.\u001b[0m\u001b[0mSimpson_Tres_Oitavos\u001b[0m\u001b[1;33m(\u001b[0m\u001b[1;33m)\u001b[0m\u001b[1;33m\u001b[0m\u001b[1;33m\u001b[0m\u001b[0m\n\u001b[0m",
      "\u001b[1;32m~\\OneDrive\\Materia de Esdudo do dia\\MAT 271\\Listas\\Programas\\Integrais.py\u001b[0m in \u001b[0;36mSimpson_Tres_Oitavos\u001b[1;34m(self)\u001b[0m\n\u001b[0;32m    274\u001b[0m         \u001b[0mprint\u001b[0m\u001b[1;33m(\u001b[0m\u001b[1;34m'\\n O vetor da resposta aproximada é: '\u001b[0m\u001b[1;33m,\u001b[0m\u001b[0mRA\u001b[0m \u001b[1;33m)\u001b[0m\u001b[1;33m\u001b[0m\u001b[1;33m\u001b[0m\u001b[0m\n\u001b[0;32m    275\u001b[0m         \u001b[0mprint\u001b[0m\u001b[1;33m(\u001b[0m\u001b[1;34m'\\n A resposta aproximada da integral  é: %9.5f'\u001b[0m \u001b[1;33m%\u001b[0m\u001b[0mAproximacao\u001b[0m\u001b[1;33m)\u001b[0m\u001b[1;33m\u001b[0m\u001b[1;33m\u001b[0m\u001b[0m\n\u001b[1;32m--> 276\u001b[1;33m         \u001b[0mReal\u001b[0m \u001b[1;33m=\u001b[0m \u001b[0mfloat\u001b[0m\u001b[1;33m(\u001b[0m\u001b[0mintegrate\u001b[0m\u001b[1;33m(\u001b[0m\u001b[0mFx\u001b[0m\u001b[1;33m(\u001b[0m\u001b[0mx\u001b[0m\u001b[1;33m)\u001b[0m\u001b[1;33m,\u001b[0m\u001b[1;33m(\u001b[0m\u001b[0mx\u001b[0m\u001b[1;33m,\u001b[0m\u001b[0ma\u001b[0m\u001b[1;33m,\u001b[0m\u001b[0mb\u001b[0m\u001b[1;33m)\u001b[0m\u001b[1;33m)\u001b[0m\u001b[1;33m)\u001b[0m\u001b[1;33m\u001b[0m\u001b[1;33m\u001b[0m\u001b[0m\n\u001b[0m\u001b[0;32m    277\u001b[0m         \u001b[0mprint\u001b[0m\u001b[1;33m(\u001b[0m\u001b[1;34m' A resposta real da integral é: %9.5f'\u001b[0m \u001b[1;33m%\u001b[0m\u001b[0mReal\u001b[0m\u001b[1;33m)\u001b[0m\u001b[1;33m\u001b[0m\u001b[1;33m\u001b[0m\u001b[0m\n\u001b[0;32m    278\u001b[0m \u001b[1;33m\u001b[0m\u001b[0m\n",
      "\u001b[1;32m~\\anaconda3\\lib\\site-packages\\sympy\\integrals\\integrals.py\u001b[0m in \u001b[0;36mintegrate\u001b[1;34m(meijerg, conds, risch, heurisch, manual, *args, **kwargs)\u001b[0m\n\u001b[0;32m   1569\u001b[0m \u001b[1;33m\u001b[0m\u001b[0m\n\u001b[0;32m   1570\u001b[0m     \u001b[1;32mif\u001b[0m \u001b[0misinstance\u001b[0m\u001b[1;33m(\u001b[0m\u001b[0mintegral\u001b[0m\u001b[1;33m,\u001b[0m \u001b[0mIntegral\u001b[0m\u001b[1;33m)\u001b[0m\u001b[1;33m:\u001b[0m\u001b[1;33m\u001b[0m\u001b[1;33m\u001b[0m\u001b[0m\n\u001b[1;32m-> 1571\u001b[1;33m         \u001b[1;32mreturn\u001b[0m \u001b[0mintegral\u001b[0m\u001b[1;33m.\u001b[0m\u001b[0mdoit\u001b[0m\u001b[1;33m(\u001b[0m\u001b[1;33m**\u001b[0m\u001b[0mdoit_flags\u001b[0m\u001b[1;33m)\u001b[0m\u001b[1;33m\u001b[0m\u001b[1;33m\u001b[0m\u001b[0m\n\u001b[0m\u001b[0;32m   1572\u001b[0m     \u001b[1;32melse\u001b[0m\u001b[1;33m:\u001b[0m\u001b[1;33m\u001b[0m\u001b[1;33m\u001b[0m\u001b[0m\n\u001b[0;32m   1573\u001b[0m         new_args = [a.doit(**doit_flags) if isinstance(a, Integral) else a\n",
      "\u001b[1;32m~\\anaconda3\\lib\\site-packages\\sympy\\integrals\\integrals.py\u001b[0m in \u001b[0;36mdoit\u001b[1;34m(self, **hints)\u001b[0m\n\u001b[0;32m    484\u001b[0m         \u001b[1;32mif\u001b[0m \u001b[0mreps\u001b[0m\u001b[1;33m:\u001b[0m\u001b[1;33m\u001b[0m\u001b[1;33m\u001b[0m\u001b[0m\n\u001b[0;32m    485\u001b[0m             \u001b[0mundo\u001b[0m \u001b[1;33m=\u001b[0m \u001b[1;33m{\u001b[0m\u001b[0mv\u001b[0m\u001b[1;33m:\u001b[0m \u001b[0mk\u001b[0m \u001b[1;32mfor\u001b[0m \u001b[0mk\u001b[0m\u001b[1;33m,\u001b[0m \u001b[0mv\u001b[0m \u001b[1;32min\u001b[0m \u001b[0mreps\u001b[0m\u001b[1;33m.\u001b[0m\u001b[0mitems\u001b[0m\u001b[1;33m(\u001b[0m\u001b[1;33m)\u001b[0m\u001b[1;33m}\u001b[0m\u001b[1;33m\u001b[0m\u001b[1;33m\u001b[0m\u001b[0m\n\u001b[1;32m--> 486\u001b[1;33m             \u001b[0mdid\u001b[0m \u001b[1;33m=\u001b[0m \u001b[0mself\u001b[0m\u001b[1;33m.\u001b[0m\u001b[0mxreplace\u001b[0m\u001b[1;33m(\u001b[0m\u001b[0mreps\u001b[0m\u001b[1;33m)\u001b[0m\u001b[1;33m.\u001b[0m\u001b[0mdoit\u001b[0m\u001b[1;33m(\u001b[0m\u001b[1;33m**\u001b[0m\u001b[0mhints\u001b[0m\u001b[1;33m)\u001b[0m\u001b[1;33m\u001b[0m\u001b[1;33m\u001b[0m\u001b[0m\n\u001b[0m\u001b[0;32m    487\u001b[0m             \u001b[1;32mif\u001b[0m \u001b[0mtype\u001b[0m\u001b[1;33m(\u001b[0m\u001b[0mdid\u001b[0m\u001b[1;33m)\u001b[0m \u001b[1;32mis\u001b[0m \u001b[0mtuple\u001b[0m\u001b[1;33m:\u001b[0m  \u001b[1;31m# when separate=True\u001b[0m\u001b[1;33m\u001b[0m\u001b[1;33m\u001b[0m\u001b[0m\n\u001b[0;32m    488\u001b[0m                 \u001b[0mdid\u001b[0m \u001b[1;33m=\u001b[0m \u001b[0mtuple\u001b[0m\u001b[1;33m(\u001b[0m\u001b[1;33m[\u001b[0m\u001b[0mi\u001b[0m\u001b[1;33m.\u001b[0m\u001b[0mxreplace\u001b[0m\u001b[1;33m(\u001b[0m\u001b[0mundo\u001b[0m\u001b[1;33m)\u001b[0m \u001b[1;32mfor\u001b[0m \u001b[0mi\u001b[0m \u001b[1;32min\u001b[0m \u001b[0mdid\u001b[0m\u001b[1;33m]\u001b[0m\u001b[1;33m)\u001b[0m\u001b[1;33m\u001b[0m\u001b[1;33m\u001b[0m\u001b[0m\n",
      "\u001b[1;32m~\\anaconda3\\lib\\site-packages\\sympy\\integrals\\integrals.py\u001b[0m in \u001b[0;36mdoit\u001b[1;34m(self, **hints)\u001b[0m\n\u001b[0;32m    595\u001b[0m                     \u001b[0mantideriv\u001b[0m \u001b[1;33m=\u001b[0m \u001b[1;32mNone\u001b[0m\u001b[1;33m\u001b[0m\u001b[1;33m\u001b[0m\u001b[0m\n\u001b[0;32m    596\u001b[0m                 \u001b[1;32melse\u001b[0m\u001b[1;33m:\u001b[0m\u001b[1;33m\u001b[0m\u001b[1;33m\u001b[0m\u001b[0m\n\u001b[1;32m--> 597\u001b[1;33m                     antideriv = self._eval_integral(\n\u001b[0m\u001b[0;32m    598\u001b[0m                         function, xab[0], **eval_kwargs)\n\u001b[0;32m    599\u001b[0m                     \u001b[1;32mif\u001b[0m \u001b[0mantideriv\u001b[0m \u001b[1;32mis\u001b[0m \u001b[1;32mNone\u001b[0m \u001b[1;32mand\u001b[0m \u001b[0mmeijerg\u001b[0m \u001b[1;32mis\u001b[0m \u001b[1;32mTrue\u001b[0m\u001b[1;33m:\u001b[0m\u001b[1;33m\u001b[0m\u001b[1;33m\u001b[0m\u001b[0m\n",
      "\u001b[1;32m~\\anaconda3\\lib\\site-packages\\sympy\\integrals\\integrals.py\u001b[0m in \u001b[0;36m_eval_integral\u001b[1;34m(self, f, x, meijerg, risch, manual, heurisch, conds)\u001b[0m\n\u001b[0;32m   1065\u001b[0m                     \u001b[1;32mtry\u001b[0m\u001b[1;33m:\u001b[0m\u001b[1;33m\u001b[0m\u001b[1;33m\u001b[0m\u001b[0m\n\u001b[0;32m   1066\u001b[0m                         \u001b[1;32mif\u001b[0m \u001b[0mconds\u001b[0m \u001b[1;33m==\u001b[0m \u001b[1;34m'piecewise'\u001b[0m\u001b[1;33m:\u001b[0m\u001b[1;33m\u001b[0m\u001b[1;33m\u001b[0m\u001b[0m\n\u001b[1;32m-> 1067\u001b[1;33m                             \u001b[0mh\u001b[0m \u001b[1;33m=\u001b[0m \u001b[0mheurisch_wrapper\u001b[0m\u001b[1;33m(\u001b[0m\u001b[0mg\u001b[0m\u001b[1;33m,\u001b[0m \u001b[0mx\u001b[0m\u001b[1;33m,\u001b[0m \u001b[0mhints\u001b[0m\u001b[1;33m=\u001b[0m\u001b[1;33m[\u001b[0m\u001b[1;33m]\u001b[0m\u001b[1;33m)\u001b[0m\u001b[1;33m\u001b[0m\u001b[1;33m\u001b[0m\u001b[0m\n\u001b[0m\u001b[0;32m   1068\u001b[0m                         \u001b[1;32melse\u001b[0m\u001b[1;33m:\u001b[0m\u001b[1;33m\u001b[0m\u001b[1;33m\u001b[0m\u001b[0m\n\u001b[0;32m   1069\u001b[0m                             \u001b[0mh\u001b[0m \u001b[1;33m=\u001b[0m \u001b[0mheurisch_\u001b[0m\u001b[1;33m(\u001b[0m\u001b[0mg\u001b[0m\u001b[1;33m,\u001b[0m \u001b[0mx\u001b[0m\u001b[1;33m,\u001b[0m \u001b[0mhints\u001b[0m\u001b[1;33m=\u001b[0m\u001b[1;33m[\u001b[0m\u001b[1;33m]\u001b[0m\u001b[1;33m)\u001b[0m\u001b[1;33m\u001b[0m\u001b[1;33m\u001b[0m\u001b[0m\n",
      "\u001b[1;32m~\\anaconda3\\lib\\site-packages\\sympy\\integrals\\heurisch.py\u001b[0m in \u001b[0;36mheurisch_wrapper\u001b[1;34m(f, x, rewrite, hints, mappings, retries, degree_offset, unnecessary_permutations, _try_heurisch)\u001b[0m\n\u001b[0;32m    141\u001b[0m         \u001b[1;32mreturn\u001b[0m \u001b[0mf\u001b[0m\u001b[1;33m*\u001b[0m\u001b[0mx\u001b[0m\u001b[1;33m\u001b[0m\u001b[1;33m\u001b[0m\u001b[0m\n\u001b[0;32m    142\u001b[0m \u001b[1;33m\u001b[0m\u001b[0m\n\u001b[1;32m--> 143\u001b[1;33m     res = heurisch(f, x, rewrite, hints, mappings, retries, degree_offset,\n\u001b[0m\u001b[0;32m    144\u001b[0m                    unnecessary_permutations, _try_heurisch)\n\u001b[0;32m    145\u001b[0m     \u001b[1;32mif\u001b[0m \u001b[1;32mnot\u001b[0m \u001b[0misinstance\u001b[0m\u001b[1;33m(\u001b[0m\u001b[0mres\u001b[0m\u001b[1;33m,\u001b[0m \u001b[0mBasic\u001b[0m\u001b[1;33m)\u001b[0m\u001b[1;33m:\u001b[0m\u001b[1;33m\u001b[0m\u001b[1;33m\u001b[0m\u001b[0m\n",
      "\u001b[1;32m~\\anaconda3\\lib\\site-packages\\sympy\\integrals\\heurisch.py\u001b[0m in \u001b[0;36mheurisch\u001b[1;34m(f, x, rewrite, hints, mappings, retries, degree_offset, unnecessary_permutations, _try_heurisch)\u001b[0m\n\u001b[0;32m    738\u001b[0m \u001b[1;33m\u001b[0m\u001b[0m\n\u001b[0;32m    739\u001b[0m         \u001b[1;32mif\u001b[0m \u001b[0msolution\u001b[0m \u001b[1;32mis\u001b[0m \u001b[1;32mNone\u001b[0m\u001b[1;33m:\u001b[0m\u001b[1;33m\u001b[0m\u001b[1;33m\u001b[0m\u001b[0m\n\u001b[1;32m--> 740\u001b[1;33m             \u001b[0msolution\u001b[0m \u001b[1;33m=\u001b[0m \u001b[0m_integrate\u001b[0m\u001b[1;33m(\u001b[0m\u001b[1;33m)\u001b[0m\u001b[1;33m\u001b[0m\u001b[1;33m\u001b[0m\u001b[0m\n\u001b[0m\u001b[0;32m    741\u001b[0m     \u001b[1;32melse\u001b[0m\u001b[1;33m:\u001b[0m\u001b[1;33m\u001b[0m\u001b[1;33m\u001b[0m\u001b[0m\n\u001b[0;32m    742\u001b[0m         \u001b[0msolution\u001b[0m \u001b[1;33m=\u001b[0m \u001b[0m_integrate\u001b[0m\u001b[1;33m(\u001b[0m\u001b[1;33m)\u001b[0m\u001b[1;33m\u001b[0m\u001b[1;33m\u001b[0m\u001b[0m\n",
      "\u001b[1;32m~\\anaconda3\\lib\\site-packages\\sympy\\integrals\\heurisch.py\u001b[0m in \u001b[0;36m_integrate\u001b[1;34m(field)\u001b[0m\n\u001b[0;32m    726\u001b[0m         \u001b[1;32mexcept\u001b[0m \u001b[0mValueError\u001b[0m\u001b[1;33m:\u001b[0m\u001b[1;33m\u001b[0m\u001b[1;33m\u001b[0m\u001b[0m\n\u001b[0;32m    727\u001b[0m             \u001b[1;32mraise\u001b[0m \u001b[0mPolynomialError\u001b[0m\u001b[1;33m\u001b[0m\u001b[1;33m\u001b[0m\u001b[0m\n\u001b[1;32m--> 728\u001b[1;33m         \u001b[0msolution\u001b[0m \u001b[1;33m=\u001b[0m \u001b[0msolve_lin_sys\u001b[0m\u001b[1;33m(\u001b[0m\u001b[0mnumer\u001b[0m\u001b[1;33m.\u001b[0m\u001b[0mcoeffs\u001b[0m\u001b[1;33m(\u001b[0m\u001b[1;33m)\u001b[0m\u001b[1;33m,\u001b[0m \u001b[0mcoeff_ring\u001b[0m\u001b[1;33m,\u001b[0m \u001b[0m_raw\u001b[0m\u001b[1;33m=\u001b[0m\u001b[1;32mFalse\u001b[0m\u001b[1;33m)\u001b[0m\u001b[1;33m\u001b[0m\u001b[1;33m\u001b[0m\u001b[0m\n\u001b[0m\u001b[0;32m    729\u001b[0m \u001b[1;33m\u001b[0m\u001b[0m\n\u001b[0;32m    730\u001b[0m         \u001b[1;32mif\u001b[0m \u001b[0msolution\u001b[0m \u001b[1;32mis\u001b[0m \u001b[1;32mNone\u001b[0m\u001b[1;33m:\u001b[0m\u001b[1;33m\u001b[0m\u001b[1;33m\u001b[0m\u001b[0m\n",
      "\u001b[1;32m~\\anaconda3\\lib\\site-packages\\sympy\\polys\\solvers.py\u001b[0m in \u001b[0;36msolve_lin_sys\u001b[1;34m(eqs, ring, _raw)\u001b[0m\n\u001b[0;32m    225\u001b[0m         \u001b[0meqs_coeffs\u001b[0m\u001b[1;33m.\u001b[0m\u001b[0mappend\u001b[0m\u001b[1;33m(\u001b[0m\u001b[0meq_coeffs\u001b[0m\u001b[1;33m)\u001b[0m\u001b[1;33m\u001b[0m\u001b[1;33m\u001b[0m\u001b[0m\n\u001b[0;32m    226\u001b[0m \u001b[1;33m\u001b[0m\u001b[0m\n\u001b[1;32m--> 227\u001b[1;33m     \u001b[0mresult\u001b[0m \u001b[1;33m=\u001b[0m \u001b[0m_solve_lin_sys\u001b[0m\u001b[1;33m(\u001b[0m\u001b[0meqs_coeffs\u001b[0m\u001b[1;33m,\u001b[0m \u001b[0meqs_rhs\u001b[0m\u001b[1;33m,\u001b[0m \u001b[0mring\u001b[0m\u001b[1;33m)\u001b[0m\u001b[1;33m\u001b[0m\u001b[1;33m\u001b[0m\u001b[0m\n\u001b[0m\u001b[0;32m    228\u001b[0m \u001b[1;33m\u001b[0m\u001b[0m\n\u001b[0;32m    229\u001b[0m     \u001b[1;32mif\u001b[0m \u001b[0mresult\u001b[0m \u001b[1;32mis\u001b[0m \u001b[1;32mnot\u001b[0m \u001b[1;32mNone\u001b[0m \u001b[1;32mand\u001b[0m \u001b[0mas_expr\u001b[0m\u001b[1;33m:\u001b[0m\u001b[1;33m\u001b[0m\u001b[1;33m\u001b[0m\u001b[0m\n",
      "\u001b[1;32m~\\anaconda3\\lib\\site-packages\\sympy\\polys\\solvers.py\u001b[0m in \u001b[0;36m_solve_lin_sys\u001b[1;34m(eqs_coeffs, eqs_rhs, ring)\u001b[0m\n\u001b[0;32m    303\u001b[0m     \u001b[0msol\u001b[0m \u001b[1;33m=\u001b[0m \u001b[1;33m{\u001b[0m\u001b[1;33m}\u001b[0m\u001b[1;33m\u001b[0m\u001b[1;33m\u001b[0m\u001b[0m\n\u001b[0;32m    304\u001b[0m     \u001b[1;32mfor\u001b[0m \u001b[0msubsystem\u001b[0m \u001b[1;32min\u001b[0m \u001b[0msubsystems\u001b[0m\u001b[1;33m:\u001b[0m\u001b[1;33m\u001b[0m\u001b[1;33m\u001b[0m\u001b[0m\n\u001b[1;32m--> 305\u001b[1;33m         \u001b[0msubsol\u001b[0m \u001b[1;33m=\u001b[0m \u001b[0m_solve_lin_sys_component\u001b[0m\u001b[1;33m(\u001b[0m\u001b[0msubsystem\u001b[0m\u001b[1;33m[\u001b[0m\u001b[1;36m0\u001b[0m\u001b[1;33m]\u001b[0m\u001b[1;33m,\u001b[0m \u001b[0msubsystem\u001b[0m\u001b[1;33m[\u001b[0m\u001b[1;36m1\u001b[0m\u001b[1;33m]\u001b[0m\u001b[1;33m,\u001b[0m \u001b[0mring\u001b[0m\u001b[1;33m)\u001b[0m\u001b[1;33m\u001b[0m\u001b[1;33m\u001b[0m\u001b[0m\n\u001b[0m\u001b[0;32m    306\u001b[0m         \u001b[1;32mif\u001b[0m \u001b[0msubsol\u001b[0m \u001b[1;32mis\u001b[0m \u001b[1;32mNone\u001b[0m\u001b[1;33m:\u001b[0m\u001b[1;33m\u001b[0m\u001b[1;33m\u001b[0m\u001b[0m\n\u001b[0;32m    307\u001b[0m             \u001b[1;32mreturn\u001b[0m \u001b[1;32mNone\u001b[0m\u001b[1;33m\u001b[0m\u001b[1;33m\u001b[0m\u001b[0m\n",
      "\u001b[1;32m~\\anaconda3\\lib\\site-packages\\sympy\\polys\\solvers.py\u001b[0m in \u001b[0;36m_solve_lin_sys_component\u001b[1;34m(eqs_coeffs, eqs_rhs, ring)\u001b[0m\n\u001b[0;32m    351\u001b[0m \u001b[1;33m\u001b[0m\u001b[0m\n\u001b[0;32m    352\u001b[0m     \u001b[1;31m# solve by row-reduction\u001b[0m\u001b[1;33m\u001b[0m\u001b[1;33m\u001b[0m\u001b[1;33m\u001b[0m\u001b[0m\n\u001b[1;32m--> 353\u001b[1;33m     \u001b[0mechelon\u001b[0m\u001b[1;33m,\u001b[0m \u001b[0mpivots\u001b[0m \u001b[1;33m=\u001b[0m \u001b[0mmatrix\u001b[0m\u001b[1;33m.\u001b[0m\u001b[0mrref\u001b[0m\u001b[1;33m(\u001b[0m\u001b[1;33m)\u001b[0m\u001b[1;33m\u001b[0m\u001b[1;33m\u001b[0m\u001b[0m\n\u001b[0m\u001b[0;32m    354\u001b[0m \u001b[1;33m\u001b[0m\u001b[0m\n\u001b[0;32m    355\u001b[0m     \u001b[1;31m# construct the returnable form of the solutions\u001b[0m\u001b[1;33m\u001b[0m\u001b[1;33m\u001b[0m\u001b[1;33m\u001b[0m\u001b[0m\n",
      "\u001b[1;32m~\\anaconda3\\lib\\site-packages\\sympy\\polys\\matrices\\domainmatrix.py\u001b[0m in \u001b[0;36mrref\u001b[1;34m(self)\u001b[0m\n\u001b[0;32m    867\u001b[0m         \u001b[1;32mif\u001b[0m \u001b[1;32mnot\u001b[0m \u001b[0mself\u001b[0m\u001b[1;33m.\u001b[0m\u001b[0mdomain\u001b[0m\u001b[1;33m.\u001b[0m\u001b[0mis_Field\u001b[0m\u001b[1;33m:\u001b[0m\u001b[1;33m\u001b[0m\u001b[1;33m\u001b[0m\u001b[0m\n\u001b[0;32m    868\u001b[0m             \u001b[1;32mraise\u001b[0m \u001b[0mValueError\u001b[0m\u001b[1;33m(\u001b[0m\u001b[1;34m'Not a field'\u001b[0m\u001b[1;33m)\u001b[0m\u001b[1;33m\u001b[0m\u001b[1;33m\u001b[0m\u001b[0m\n\u001b[1;32m--> 869\u001b[1;33m         \u001b[0mrref_ddm\u001b[0m\u001b[1;33m,\u001b[0m \u001b[0mpivots\u001b[0m \u001b[1;33m=\u001b[0m \u001b[0mself\u001b[0m\u001b[1;33m.\u001b[0m\u001b[0mrep\u001b[0m\u001b[1;33m.\u001b[0m\u001b[0mrref\u001b[0m\u001b[1;33m(\u001b[0m\u001b[1;33m)\u001b[0m\u001b[1;33m\u001b[0m\u001b[1;33m\u001b[0m\u001b[0m\n\u001b[0m\u001b[0;32m    870\u001b[0m         \u001b[1;32mreturn\u001b[0m \u001b[0mself\u001b[0m\u001b[1;33m.\u001b[0m\u001b[0mfrom_rep\u001b[0m\u001b[1;33m(\u001b[0m\u001b[0mrref_ddm\u001b[0m\u001b[1;33m)\u001b[0m\u001b[1;33m,\u001b[0m \u001b[0mtuple\u001b[0m\u001b[1;33m(\u001b[0m\u001b[0mpivots\u001b[0m\u001b[1;33m)\u001b[0m\u001b[1;33m\u001b[0m\u001b[1;33m\u001b[0m\u001b[0m\n\u001b[0;32m    871\u001b[0m \u001b[1;33m\u001b[0m\u001b[0m\n",
      "\u001b[1;32m~\\anaconda3\\lib\\site-packages\\sympy\\polys\\matrices\\ddm.py\u001b[0m in \u001b[0;36mrref\u001b[1;34m(a)\u001b[0m\n\u001b[0;32m    241\u001b[0m         \u001b[1;34m\"\"\"Reduced-row echelon form of a and list of pivots\"\"\"\u001b[0m\u001b[1;33m\u001b[0m\u001b[1;33m\u001b[0m\u001b[0m\n\u001b[0;32m    242\u001b[0m         \u001b[0mb\u001b[0m \u001b[1;33m=\u001b[0m \u001b[0ma\u001b[0m\u001b[1;33m.\u001b[0m\u001b[0mcopy\u001b[0m\u001b[1;33m(\u001b[0m\u001b[1;33m)\u001b[0m\u001b[1;33m\u001b[0m\u001b[1;33m\u001b[0m\u001b[0m\n\u001b[1;32m--> 243\u001b[1;33m         \u001b[0mpivots\u001b[0m \u001b[1;33m=\u001b[0m \u001b[0mddm_irref\u001b[0m\u001b[1;33m(\u001b[0m\u001b[0mb\u001b[0m\u001b[1;33m)\u001b[0m\u001b[1;33m\u001b[0m\u001b[1;33m\u001b[0m\u001b[0m\n\u001b[0m\u001b[0;32m    244\u001b[0m         \u001b[1;32mreturn\u001b[0m \u001b[0mb\u001b[0m\u001b[1;33m,\u001b[0m \u001b[0mpivots\u001b[0m\u001b[1;33m\u001b[0m\u001b[1;33m\u001b[0m\u001b[0m\n\u001b[0;32m    245\u001b[0m \u001b[1;33m\u001b[0m\u001b[0m\n",
      "\u001b[1;32m~\\anaconda3\\lib\\site-packages\\sympy\\polys\\matrices\\dense.py\u001b[0m in \u001b[0;36mddm_irref\u001b[1;34m(a)\u001b[0m\n\u001b[0;32m    120\u001b[0m             \u001b[0mak\u001b[0m\u001b[1;33m[\u001b[0m\u001b[0mj\u001b[0m\u001b[1;33m]\u001b[0m \u001b[1;33m-=\u001b[0m \u001b[0makj\u001b[0m \u001b[1;31m# ak[j] = zero\u001b[0m\u001b[1;33m\u001b[0m\u001b[1;33m\u001b[0m\u001b[0m\n\u001b[0;32m    121\u001b[0m             \u001b[1;32mfor\u001b[0m \u001b[0ml\u001b[0m \u001b[1;32min\u001b[0m \u001b[0mrange\u001b[0m\u001b[1;33m(\u001b[0m\u001b[0mj\u001b[0m\u001b[1;33m+\u001b[0m\u001b[1;36m1\u001b[0m\u001b[1;33m,\u001b[0m \u001b[0mn\u001b[0m\u001b[1;33m)\u001b[0m\u001b[1;33m:\u001b[0m\u001b[1;33m\u001b[0m\u001b[1;33m\u001b[0m\u001b[0m\n\u001b[1;32m--> 122\u001b[1;33m                 \u001b[0mak\u001b[0m\u001b[1;33m[\u001b[0m\u001b[0ml\u001b[0m\u001b[1;33m]\u001b[0m \u001b[1;33m-=\u001b[0m \u001b[0makj\u001b[0m \u001b[1;33m*\u001b[0m \u001b[0mai\u001b[0m\u001b[1;33m[\u001b[0m\u001b[0ml\u001b[0m\u001b[1;33m]\u001b[0m\u001b[1;33m\u001b[0m\u001b[1;33m\u001b[0m\u001b[0m\n\u001b[0m\u001b[0;32m    123\u001b[0m \u001b[1;33m\u001b[0m\u001b[0m\n\u001b[0;32m    124\u001b[0m         \u001b[1;31m# next row\u001b[0m\u001b[1;33m\u001b[0m\u001b[1;33m\u001b[0m\u001b[1;33m\u001b[0m\u001b[0m\n",
      "\u001b[1;32m~\\anaconda3\\lib\\site-packages\\sympy\\polys\\domains\\pythonrational.py\u001b[0m in \u001b[0;36m__sub__\u001b[1;34m(self, other)\u001b[0m\n\u001b[0;32m    155\u001b[0m             \u001b[1;32mreturn\u001b[0m \u001b[0mNotImplemented\u001b[0m\u001b[1;33m\u001b[0m\u001b[1;33m\u001b[0m\u001b[0m\n\u001b[0;32m    156\u001b[0m \u001b[1;33m\u001b[0m\u001b[0m\n\u001b[1;32m--> 157\u001b[1;33m         \u001b[1;32mreturn\u001b[0m \u001b[0mself\u001b[0m\u001b[1;33m.\u001b[0m\u001b[0m__class__\u001b[0m\u001b[1;33m(\u001b[0m\u001b[0mp\u001b[0m\u001b[1;33m,\u001b[0m \u001b[0mq\u001b[0m\u001b[1;33m,\u001b[0m \u001b[0m_gcd\u001b[0m\u001b[1;33m=\u001b[0m\u001b[1;32mFalse\u001b[0m\u001b[1;33m)\u001b[0m\u001b[1;33m\u001b[0m\u001b[1;33m\u001b[0m\u001b[0m\n\u001b[0m\u001b[0;32m    158\u001b[0m \u001b[1;33m\u001b[0m\u001b[0m\n\u001b[0;32m    159\u001b[0m     \u001b[1;32mdef\u001b[0m \u001b[0m__rsub__\u001b[0m\u001b[1;33m(\u001b[0m\u001b[0mself\u001b[0m\u001b[1;33m,\u001b[0m \u001b[0mother\u001b[0m\u001b[1;33m)\u001b[0m\u001b[1;33m:\u001b[0m\u001b[1;33m\u001b[0m\u001b[1;33m\u001b[0m\u001b[0m\n",
      "\u001b[1;32m~\\anaconda3\\lib\\site-packages\\sympy\\polys\\domains\\pythonrational.py\u001b[0m in \u001b[0;36m__init__\u001b[1;34m(self, p, q, _gcd)\u001b[0m\n\u001b[0;32m     48\u001b[0m     \u001b[1;32mdef\u001b[0m \u001b[0m__init__\u001b[0m\u001b[1;33m(\u001b[0m\u001b[0mself\u001b[0m\u001b[1;33m,\u001b[0m \u001b[0mp\u001b[0m\u001b[1;33m,\u001b[0m \u001b[0mq\u001b[0m\u001b[1;33m=\u001b[0m\u001b[1;36m1\u001b[0m\u001b[1;33m,\u001b[0m \u001b[0m_gcd\u001b[0m\u001b[1;33m=\u001b[0m\u001b[1;32mTrue\u001b[0m\u001b[1;33m)\u001b[0m\u001b[1;33m:\u001b[0m\u001b[1;33m\u001b[0m\u001b[1;33m\u001b[0m\u001b[0m\n\u001b[0;32m     49\u001b[0m         \u001b[1;32mfrom\u001b[0m \u001b[0msympy\u001b[0m\u001b[1;33m.\u001b[0m\u001b[0mpolys\u001b[0m\u001b[1;33m.\u001b[0m\u001b[0mdomains\u001b[0m\u001b[1;33m.\u001b[0m\u001b[0mgroundtypes\u001b[0m \u001b[1;32mimport\u001b[0m \u001b[0mpython_gcd\u001b[0m \u001b[1;32mas\u001b[0m \u001b[0mgcd\u001b[0m\u001b[1;33m\u001b[0m\u001b[1;33m\u001b[0m\u001b[0m\n\u001b[1;32m---> 50\u001b[1;33m         \u001b[1;32mif\u001b[0m \u001b[0misinstance\u001b[0m\u001b[1;33m(\u001b[0m\u001b[0mp\u001b[0m\u001b[1;33m,\u001b[0m \u001b[0mInteger\u001b[0m\u001b[1;33m)\u001b[0m\u001b[1;33m:\u001b[0m\u001b[1;33m\u001b[0m\u001b[1;33m\u001b[0m\u001b[0m\n\u001b[0m\u001b[0;32m     51\u001b[0m             \u001b[0mp\u001b[0m \u001b[1;33m=\u001b[0m \u001b[0mp\u001b[0m\u001b[1;33m.\u001b[0m\u001b[0mp\u001b[0m\u001b[1;33m\u001b[0m\u001b[1;33m\u001b[0m\u001b[0m\n\u001b[0;32m     52\u001b[0m         \u001b[1;32melif\u001b[0m \u001b[0misinstance\u001b[0m\u001b[1;33m(\u001b[0m\u001b[0mp\u001b[0m\u001b[1;33m,\u001b[0m \u001b[0mRational\u001b[0m\u001b[1;33m)\u001b[0m\u001b[1;33m:\u001b[0m\u001b[1;33m\u001b[0m\u001b[1;33m\u001b[0m\u001b[0m\n",
      "\u001b[1;31mKeyboardInterrupt\u001b[0m: "
     ]
    }
   ],
   "source": [
    "num = ln(x**3+sqrt(1+exp(x)))\n",
    "den = 1\n",
    "Fx = Lambda(x, num/den)\n",
    "a = 1 # Limite inferior\n",
    "b = 4 # Limite superior\n",
    "n = 6 # Numero de divisões\n",
    "e = 0.01 # erro\n",
    "\n",
    "Q4 = Sol_Int(num,den,Fx, a, b, n, e)\n",
    "\n",
    "Q4.Simpson_Tres_Oitavos()"
   ]
  },
  {
   "cell_type": "code",
   "execution_count": null,
   "id": "9523846b",
   "metadata": {},
   "outputs": [],
   "source": [
    "# Fazer a 5"
   ]
  },
  {
   "cell_type": "code",
   "execution_count": null,
   "id": "8fae8dc5",
   "metadata": {},
   "outputs": [],
   "source": [
    "# Fazer a 6"
   ]
  },
  {
   "cell_type": "code",
   "execution_count": 5,
   "id": "548843f1",
   "metadata": {
    "ExecuteTime": {
     "end_time": "2021-10-19T01:02:29.407036Z",
     "start_time": "2021-10-19T01:02:29.096164Z"
    }
   },
   "outputs": [
    {
     "name": "stdout",
     "output_type": "stream",
     "text": [
      "\n",
      " Após as definições temos a seguinte função:\n"
     ]
    },
    {
     "data": {
      "text/latex": [
       "$\\displaystyle \\int\\limits_{0.1}^{0.7} \\left(7 x + e^{- 3 x}\\right)\\, dx$"
      ],
      "text/plain": [
       "Integral(7*x + exp(-3*x), (x, 0.1, 0.7))"
      ]
     },
     "metadata": {},
     "output_type": "display_data"
    },
    {
     "name": "stdout",
     "output_type": "stream",
     "text": [
      "..........Simpson_1/3..........\n",
      "O valor de n está correto.\n",
      "\n",
      " O vetor x é:  [0.1, 0.2, 0.3, 0.39999999999999997, 0.49999999999999994, 0.6, 0.7]\n",
      "\n",
      " O vetor da resposta aproximada é:  [1.44081822 1.94881164 2.50656966 3.10119421 3.72313016 4.36529889\n",
      " 5.02245643]\n",
      "\n",
      " A resposta aproximada da integral  é:   1.88613\n",
      " A resposta real da integral é:   1.88612\n",
      "\n",
      " O vetor f\"\" é:  [60.0062758752191, 44.4537425236161, 32.9321424389885, 24.3967311648884, 18.0735429720228, 13.3892099459485, 9.91897068849154] \n",
      " Sendo o maior valor:  60.0062758752191\n",
      "Portanto, temos que: \n",
      " |E2| = 0.00002  <  0.01\n"
     ]
    }
   ],
   "source": [
    "num = exp(-3*x) + 7*x\n",
    "den = 1\n",
    "Fx = Lambda(x, num/den)\n",
    "a = 0.1 # Limite inferior\n",
    "b = 0.7 # Limite superior\n",
    "n = 6 # Numero de divisões\n",
    "e = 0.01 # erro\n",
    "\n",
    "Q7 = Sol_Int(num,den,Fx, a, b, n, e)\n",
    "\n",
    "Q7.Simpson_Um_Terço()"
   ]
  },
  {
   "cell_type": "code",
   "execution_count": 6,
   "id": "d3407bed",
   "metadata": {
    "ExecuteTime": {
     "end_time": "2021-10-19T01:02:30.281730Z",
     "start_time": "2021-10-19T01:02:29.411025Z"
    }
   },
   "outputs": [
    {
     "name": "stdout",
     "output_type": "stream",
     "text": [
      "\n",
      " Após as definições temos a seguinte função:\n"
     ]
    },
    {
     "data": {
      "text/latex": [
       "$\\displaystyle \\int\\limits_{1.6}^{5.6} \\left(- 2 x + \\log{\\left(x + 8 \\right)}\\right)\\, dx$"
      ],
      "text/plain": [
       "Integral(-2*x + log(x + 8), (x, 1.6, 5.6))"
      ]
     },
     "metadata": {},
     "output_type": "display_data"
    },
    {
     "name": "stdout",
     "output_type": "stream",
     "text": [
      "..........Método do Trapézio..........\n",
      "\n",
      " O vetor x é:  [1.6, 2.2666666666666666, 2.933333333333333, 3.5999999999999996, 4.266666666666667, 4.933333333333334, 5.6000000000000005]\n",
      "\n",
      " O vetor da resposta aproximada é:  [-0.9382369  -2.20443093 -3.47485044 -4.7489949  -6.02644778 -7.30685871\n",
      " -8.58993021]\n",
      "\n",
      " A resposta aproximada da integral  é: -19.01711\n",
      " A resposta real da integral é: -19.01598\n",
      "\n",
      " O vetor f\" é:  [0.0108506944444444, 0.00948726598077248, 0.00836555621653778, 0.00743162901307967, 0.00664579395085066, 0.00597831863109788, 0.00540657439446367] \n",
      " Sendo o maior valor:  0.0108506944444444\n",
      "\n",
      " Portanto, temos que: \n",
      " |E1| < 0.00161\n",
      "\n",
      " Logo, para que (|E1|< 1e-06 ) o número mínimo de subintervalos deve ser 241.\n",
      "\n",
      "\n",
      "..........Simpson_1/3..........\n",
      "O valor de n está correto.\n",
      "\n",
      " O vetor x é:  [1.6, 2.2666666666666666, 2.933333333333333, 3.5999999999999996, 4.266666666666667, 4.933333333333334, 5.6000000000000005]\n",
      "\n",
      " O vetor da resposta aproximada é:  [-0.9382369  -2.20443093 -3.47485044 -4.7489949  -6.02644778 -7.30685871\n",
      " -8.58993021]\n",
      "\n",
      " A resposta aproximada da integral  é: -19.01598\n",
      " A resposta real da integral é: -19.01598\n",
      "\n",
      " O vetor f\"\" é:  [0.000706425419560185, 0.000540049294739536, 0.000419895184872323, 0.000331374658728285, 0.000264999463422980, 0.000214441761929593, 0.000175386280097221] \n",
      " Sendo o maior valor:  0.000706425419560185\n",
      "\n",
      " Portanto, temos que: \n",
      " |E1| < 0.00000\n",
      "\n",
      " Logo, para que (|E1|< 1e-06 ) o número mínimo de subintervalos deve ser 8.\n",
      "\n",
      "\n",
      "\n",
      " ..........Simpson_3/8..........\n",
      "O valor de n está correto.\n",
      "\n",
      " O vetor x é:  [1.6, 2.2666666666666666, 2.933333333333333, 3.5999999999999996, 4.266666666666667, 4.933333333333334, 5.6000000000000005]\n",
      "\n",
      " O vetor da resposta aproximada é:  [-0.9382369  -2.20443093 -3.47485044 -4.7489949  -6.02644778 -7.30685871\n",
      " -8.58993021]\n",
      "\n",
      " A resposta aproximada da integral  é: -19.01598\n",
      " A resposta real da integral é: -19.01598\n",
      "\n",
      " O vetor f\"\" é:  [0.000706425419560185, 0.000540049294739536, 0.000419895184872323, 0.000331374658728285, 0.000264999463422980, 0.000214441761929593, 0.000175386280097221] \n",
      " Sendo o maior valor:  0.000706425419560185\n",
      "\n",
      " Portanto, temos que: \n",
      " |E1| < 0.00001\n",
      "\n",
      " Logo, para que (|E1|< 1e-06 ) o número mínimo de subintervalos deve ser 12.\n"
     ]
    }
   ],
   "source": [
    "num = ln(x+8)-2*x\n",
    "den = 1\n",
    "Fx = Lambda(x, num/den)\n",
    "a = 1.6 # Limite inferior\n",
    "b = 5.6 # Limite superior\n",
    "n = 6 # Numero de divisões\n",
    "e = 0.000001 # erro\n",
    "\n",
    "Q8 = Sol_Int(num,den,Fx, a, b, n, e)\n",
    "\n",
    "Q8.Trapezio()\n",
    "print('\\n')\n",
    "Q8.Simpson_Um_Terço()\n",
    "print('\\n')\n",
    "Q8.Simpson_Tres_Oitavos()"
   ]
  },
  {
   "cell_type": "code",
   "execution_count": 7,
   "id": "0f8a83c4",
   "metadata": {
    "ExecuteTime": {
     "end_time": "2021-10-19T01:02:30.655731Z",
     "start_time": "2021-10-19T01:02:30.285723Z"
    }
   },
   "outputs": [
    {
     "name": "stdout",
     "output_type": "stream",
     "text": [
      "\n",
      " Após as definições temos a seguinte função:\n"
     ]
    },
    {
     "data": {
      "text/latex": [
       "$\\displaystyle \\int\\limits_{2}^{3} \\left(- \\frac{1500 x}{2 x + 5} + 3000\\right)\\, dx$"
      ],
      "text/plain": [
       "Integral(-1500*x/(2*x + 5) + 3000, (x, 2, 3))"
      ]
     },
     "metadata": {},
     "output_type": "display_data"
    },
    {
     "name": "stdout",
     "output_type": "stream",
     "text": [
      "\n",
      " ..........Simpson_3/8..........\n",
      "O valor de n está correto.\n",
      "\n",
      " O vetor x é:  [2.0, 2.1666666666666665, 2.333333333333333, 2.4999999999999996, 2.666666666666666, 2.8333333333333326, 2.999999999999999]\n",
      "\n",
      " O vetor da resposta aproximada é:  [2666.66666667 2651.78571429 2637.93103448 2625.         2612.90322581\n",
      " 2601.5625     2590.90909091]\n",
      "\n",
      " A resposta aproximada da integral  é: 2626.25770\n",
      " A resposta real da integral é: 2626.25755\n",
      "\n",
      " O vetor f\"\" é:  [24.3865264441396, 20.3319301481526, 17.0599901546227, 14.4000000000000, 12.2225070523398, 10.4284286499024, 8.94126705205184] \n",
      " Sendo o maior valor:  24.3865264441396\n",
      "Portanto, temos que: \n",
      " |E2| = 0.00024  <  0.001\n"
     ]
    }
   ],
   "source": [
    "num = 1500*(2- x/(2*x+5))\n",
    "den = 1\n",
    "Fx = Lambda(x, num/den)\n",
    "a = 2 # Limite inferior\n",
    "b = 3 # Limite superior\n",
    "n = 6 # Numero de divisões\n",
    "e = 0.001 # erro\n",
    "\n",
    "Q9 = Sol_Int(num,den,Fx, a, b, n, e)\n",
    "\n",
    "Q9.Simpson_Tres_Oitavos()"
   ]
  },
  {
   "cell_type": "code",
   "execution_count": null,
   "id": "5f54cf40",
   "metadata": {},
   "outputs": [],
   "source": [
    "# Fazer a 10"
   ]
  }
 ],
 "metadata": {
  "kernelspec": {
   "display_name": "Python 3",
   "language": "python",
   "name": "python3"
  },
  "language_info": {
   "codemirror_mode": {
    "name": "ipython",
    "version": 3
   },
   "file_extension": ".py",
   "mimetype": "text/x-python",
   "name": "python",
   "nbconvert_exporter": "python",
   "pygments_lexer": "ipython3",
   "version": "3.8.8"
  }
 },
 "nbformat": 4,
 "nbformat_minor": 5
}
