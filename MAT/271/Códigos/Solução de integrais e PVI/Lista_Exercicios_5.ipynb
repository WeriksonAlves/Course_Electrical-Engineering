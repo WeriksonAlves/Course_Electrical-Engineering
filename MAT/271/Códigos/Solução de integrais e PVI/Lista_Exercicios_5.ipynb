{
 "cells": [
  {
   "cell_type": "code",
   "execution_count": 1,
   "id": "14472569",
   "metadata": {
    "ExecuteTime": {
     "end_time": "2021-10-19T14:16:04.832790Z",
     "start_time": "2021-10-19T14:16:04.144259Z"
    }
   },
   "outputs": [],
   "source": [
    "from sympy import * #var, Lambda, exp, log, sin, cos, tan, sqrt, ln\n",
    "from Euler import *\n",
    "x,y = var('x y')"
   ]
  },
  {
   "cell_type": "code",
   "execution_count": 5,
   "id": "bf1ab703",
   "metadata": {
    "ExecuteTime": {
     "end_time": "2021-10-19T14:22:14.609116Z",
     "start_time": "2021-10-19T14:22:14.432253Z"
    }
   },
   "outputs": [
    {
     "name": "stdout",
     "output_type": "stream",
     "text": [
      "\n",
      " Após as definições temos a seguinte função:\n"
     ]
    },
    {
     "data": {
      "text/latex": [
       "$\\displaystyle - y^{2} - \\frac{y}{x} + \\frac{1}{x^{2}}$"
      ],
      "text/plain": [
       "-y**2 - y/x + x**(-2)"
      ]
     },
     "metadata": {},
     "output_type": "display_data"
    },
    {
     "name": "stdout",
     "output_type": "stream",
     "text": [
      "\n",
      "..........Método de Euler Ordem 1..........\n",
      "\n",
      "\n",
      " h =  0.1\n",
      "\n",
      " O vetor x é:  [1.  1.1 1.2 1.3 1.4 1.5 1.6 1.7 1.8 1.9 2. ]\n",
      "\n",
      " y[ 0 ] é : -1.000000\n",
      "\n",
      " y[ 1 ] é : -0.900000\n",
      "\n",
      " y[ 2 ] é : -0.816537\n",
      "\n",
      " y[ 3 ] é : -0.745721\n",
      "\n",
      " y[ 4 ] é : -0.684797\n",
      "\n",
      " y[ 5 ] é : -0.631757\n",
      "\n",
      " y[ 6 ] é : -0.585107\n",
      "\n",
      " y[ 7 ] é : -0.543710\n",
      "\n",
      " y[ 8 ] é : -0.506687\n",
      "\n",
      " y[ 9 ] é : -0.473347\n",
      "\n",
      " y[ 10 ] é : -0.443139\n",
      "\n",
      " Portanto, temos que o erro absoluto é: \n",
      " |E| = -0.00180  <  0.01\n"
     ]
    }
   ],
   "source": [
    "num = (1/x**2)-(y/x)-(y**2)\n",
    "den = 1\n",
    "Fx = Lambda((x,y), num/den)\n",
    "x0 = 1 \n",
    "y0 = -1 \n",
    "b = 2\n",
    "n = 10 # Numero de divisões\n",
    "e = 0.01 # erro\n",
    "\n",
    "Q1 = Sol_Q(num, den, Fx, x0, y0, b, n, e)\n",
    "\n",
    "Q1.Runge_Kutta_Ordem_UM()\n",
    "# O erro absoluto é -0,5-(-0,4431)=0,0569"
   ]
  },
  {
   "cell_type": "code",
   "execution_count": 7,
   "id": "0e2bcf27",
   "metadata": {
    "ExecuteTime": {
     "end_time": "2021-10-19T14:27:00.797162Z",
     "start_time": "2021-10-19T14:27:00.755164Z"
    }
   },
   "outputs": [
    {
     "name": "stdout",
     "output_type": "stream",
     "text": [
      "\n",
      " Após as definições temos a seguinte função:\n"
     ]
    },
    {
     "data": {
      "text/latex": [
       "$\\displaystyle - x y^{2}$"
      ],
      "text/plain": [
       "-x*y**2"
      ]
     },
     "metadata": {},
     "output_type": "display_data"
    },
    {
     "name": "stdout",
     "output_type": "stream",
     "text": [
      "\n",
      "..........Método de Euler Ordem 1..........\n",
      "\n",
      "\n",
      " h =  0.1\n",
      "\n",
      " O vetor x é:  [1.  1.1 1.2 1.3 1.4 1.5]\n",
      "\n",
      " y[ 0 ] é :  2.000000\n",
      "\n",
      " y[ 1 ] é :  1.600000\n",
      "\n",
      " y[ 2 ] é :  1.318400\n",
      "\n",
      " y[ 3 ] é :  1.109819\n",
      "\n",
      " y[ 4 ] é :  0.949698\n",
      "\n",
      " y[ 5 ] é :  0.823428\n",
      "\n",
      " Portanto, temos que o erro absoluto é: \n",
      " |E| = -0.00339  <  0.01\n"
     ]
    }
   ],
   "source": [
    "num = -x*y**2\n",
    "den = 1\n",
    "Fx = Lambda((x,y), num/den)\n",
    "x0 = 1 # Limite inferior\n",
    "y0 = 2 # Limite superior\n",
    "b = 1.5\n",
    "n = 5 # Numero de divisões\n",
    "e = 0.01 # erro\n",
    "\n",
    "Q2 = Sol_Q(num, den, Fx, x0, y0, b, n, e)\n",
    "\n",
    "Q2.Runge_Kutta_Ordem_UM()"
   ]
  },
  {
   "cell_type": "code",
   "execution_count": 9,
   "id": "c75cf7f2",
   "metadata": {
    "ExecuteTime": {
     "end_time": "2021-10-19T14:29:20.599256Z",
     "start_time": "2021-10-19T14:29:20.554791Z"
    }
   },
   "outputs": [
    {
     "name": "stdout",
     "output_type": "stream",
     "text": [
      "\n",
      " Após as definições temos a seguinte função:\n"
     ]
    },
    {
     "data": {
      "text/latex": [
       "$\\displaystyle x y^{0.333333333333333}$"
      ],
      "text/plain": [
       "x*y**0.333333333333333"
      ]
     },
     "metadata": {},
     "output_type": "display_data"
    },
    {
     "name": "stdout",
     "output_type": "stream",
     "text": [
      "\n",
      "..........Método de Euler Ordem 1..........\n",
      "\n",
      "\n",
      " h =  0.4\n",
      "\n",
      " O vetor x é:  [0.  0.4 0.8 1.2 1.6 2. ]\n",
      "\n",
      " y[ 0 ] é :  1.000000\n",
      "\n",
      " y[ 1 ] é :  1.000000\n",
      "\n",
      " y[ 2 ] é :  1.160000\n",
      "\n",
      " y[ 3 ] é :  1.496230\n",
      "\n",
      " y[ 4 ] é :  2.045232\n",
      "\n",
      " y[ 5 ] é :  2.857615\n",
      "\n",
      " Portanto, temos que: \n",
      " |E1| < 0.11352\n",
      "\n",
      " Para uma melhor aproximação aumente o número de subintervalos\n",
      "\n",
      "..........Método de Euler Ordem 2..........\n",
      "\n",
      "\n",
      " h =  0.4\n",
      "\n",
      " O vetor x é:  [0.  0.4 0.8 1.2 1.6 2. ]\n",
      "\n",
      " y[ 0 ] é :  1.000000\n",
      "\n",
      " y[ 1 ] é :  1.080000\n",
      "\n",
      " y[ 2 ] é :  1.334165\n",
      "\n",
      " y[ 3 ] é :  1.795977\n",
      "\n",
      " y[ 4 ] é :  2.514914\n",
      "\n",
      " y[ 5 ] é :  3.550690\n",
      "\n",
      " Portanto, temos que: \n",
      " |E1| < 0.12205\n",
      "\n",
      " Para uma melhor aproximação aumente o número de subintervalos\n"
     ]
    }
   ],
   "source": [
    "num = x*y**(1/3)\n",
    "den = 1\n",
    "Fx = Lambda((x,y), num/den)\n",
    "x0 = 0 # Limite inferior\n",
    "y0 = 1 # Limite superior\n",
    "b = 2\n",
    "n = 5 # Numero de divisões\n",
    "e = 0.01 # erro\n",
    "\n",
    "Q3 = Sol_Q(num, den, Fx, x0, y0, b, n, e)\n",
    "#a) \n",
    "Q3.Runge_Kutta_Ordem_UM()\n",
    "\n",
    "#b) \n",
    "Q3.Runge_Kutta_Ordem_Dois()"
   ]
  },
  {
   "cell_type": "code",
   "execution_count": 11,
   "id": "860e8028",
   "metadata": {
    "ExecuteTime": {
     "end_time": "2021-10-19T14:32:14.840854Z",
     "start_time": "2021-10-19T14:32:14.802397Z"
    }
   },
   "outputs": [
    {
     "name": "stdout",
     "output_type": "stream",
     "text": [
      "\n",
      " Após as definições temos a seguinte função:\n"
     ]
    },
    {
     "data": {
      "text/latex": [
       "$\\displaystyle - x y^{2}$"
      ],
      "text/plain": [
       "-x*y**2"
      ]
     },
     "metadata": {},
     "output_type": "display_data"
    },
    {
     "name": "stdout",
     "output_type": "stream",
     "text": [
      "\n",
      "..........Método de Euler Ordem 4..........\n",
      "\n",
      "\n",
      " h =  0.25\n",
      "\n",
      " O vetor x é:  [1.   1.25 1.5 ]\n",
      "\n",
      " y[ 0 ] é :  2.000000\n",
      "\n",
      " y[ 1 ] é :  1.281312\n",
      "\n",
      " y[ 2 ] é :  0.889881\n",
      "\n",
      " Portanto, temos que o erro absoluto é: \n",
      " |E| = -0.02475  <  0.01\n"
     ]
    }
   ],
   "source": [
    "num = -x*y**2\n",
    "den = 1\n",
    "Fx = Lambda((x,y), num/den)\n",
    "x0 = 1 \n",
    "y0 = 2 \n",
    "b = 1.5\n",
    "n = 2 # Numero de divisões\n",
    "e = 0.01 # erro\n",
    "\n",
    "Q4 = Sol_Q(num, den, Fx, x0, y0, b, n, e)\n",
    "#a) \n",
    "Q4.Runge_Kutta_Ordem_Quatro()"
   ]
  },
  {
   "cell_type": "code",
   "execution_count": 12,
   "id": "911b8201",
   "metadata": {
    "ExecuteTime": {
     "end_time": "2021-10-19T14:35:00.050602Z",
     "start_time": "2021-10-19T14:34:59.930852Z"
    }
   },
   "outputs": [
    {
     "name": "stdout",
     "output_type": "stream",
     "text": [
      "\n",
      " Após as definições temos a seguinte função:\n"
     ]
    },
    {
     "data": {
      "text/latex": [
       "$\\displaystyle y \\cos{\\left(x \\right)}$"
      ],
      "text/plain": [
       "y*cos(x)"
      ]
     },
     "metadata": {},
     "output_type": "display_data"
    },
    {
     "name": "stdout",
     "output_type": "stream",
     "text": [
      "\n",
      "..........Método de Euler Ordem 4..........\n",
      "\n",
      "\n",
      " h =  0.2\n",
      "\n",
      " O vetor x é:  [0.  0.2 0.4 0.6 0.8 1. ]\n",
      "\n",
      " y[ 0 ] é :  1.000000\n",
      "\n",
      " y[ 1 ] é :  1.219776\n",
      "\n",
      " y[ 2 ] é :  1.476116\n",
      "\n",
      " y[ 3 ] é :  1.758809\n",
      "\n",
      " y[ 4 ] é :  2.048996\n",
      "\n",
      " y[ 5 ] é :  2.319761\n",
      "\n",
      " Portanto, temos que o erro absoluto é: \n",
      " |E| = 0.00000  <  0.01\n",
      "\n",
      " Após as definições temos a seguinte função:\n"
     ]
    },
    {
     "data": {
      "text/latex": [
       "$\\displaystyle y \\cos{\\left(x \\right)}$"
      ],
      "text/plain": [
       "y*cos(x)"
      ]
     },
     "metadata": {},
     "output_type": "display_data"
    },
    {
     "name": "stdout",
     "output_type": "stream",
     "text": [
      "\n",
      "..........Método de Euler Ordem 4..........\n",
      "\n",
      "\n",
      " h =  0.19999999999999998\n",
      "\n",
      " O vetor x é:  [0.  0.2 0.4 0.6]\n",
      "\n",
      " y[ 0 ] é :  1.000000\n",
      "\n",
      " y[ 1 ] é :  1.219776\n",
      "\n",
      " y[ 2 ] é :  1.476116\n",
      "\n",
      " y[ 3 ] é :  1.758809\n",
      "\n",
      " Portanto, temos que o erro absoluto é: \n",
      " |E| = 0.00000  <  0.01\n"
     ]
    }
   ],
   "source": [
    "num = y*cos(x)\n",
    "den = 1\n",
    "Fx = Lambda((x,y), num/den)\n",
    "x0 = 0 \n",
    "y0 = 1 \n",
    "b = 1\n",
    "n = 5 # Numero de divisões\n",
    "e = 0.01 # erro\n",
    "\n",
    "Q5 = Sol_Q(num, den, Fx, x0, y0, b, n, e)\n",
    "Q5.Runge_Kutta_Ordem_Quatro()\n",
    "\n",
    "# Outra forma\n",
    "Q5 = Sol_Q(num, den, Fx, x0, y0, 0.6, 3, e) \n",
    "Q5.Runge_Kutta_Ordem_Quatro()"
   ]
  },
  {
   "cell_type": "code",
   "execution_count": null,
   "id": "c6b49be8",
   "metadata": {},
   "outputs": [],
   "source": [
    "num = -0.1*y\n",
    "den = 1\n",
    "Fx = Lambda((x,y), num/den)\n",
    "x0 = 0 \n",
    "y0 = 1000 \n",
    "b = ?\n",
    "n = ? # Numero de divisões\n",
    "e = 0.01 # erro\n",
    "\n",
    "Q6 = Sol_Q(num, den, Fx, x0, y0, b, n, e)\n",
    " \n"
   ]
  },
  {
   "cell_type": "code",
   "execution_count": 23,
   "id": "e7a8edc5",
   "metadata": {
    "ExecuteTime": {
     "end_time": "2021-10-19T15:57:31.874870Z",
     "start_time": "2021-10-19T15:57:31.822115Z"
    }
   },
   "outputs": [
    {
     "name": "stdout",
     "output_type": "stream",
     "text": [
      "\n",
      " Após as definições temos a seguinte função:\n"
     ]
    },
    {
     "data": {
      "text/latex": [
       "$\\displaystyle y^{2}$"
      ],
      "text/plain": [
       "y**2"
      ]
     },
     "metadata": {},
     "output_type": "display_data"
    },
    {
     "name": "stdout",
     "output_type": "stream",
     "text": [
      "\n",
      "..........Método de Euler Ordem 4..........\n",
      "\n",
      "\n",
      " h =  0.0245\n",
      "\n",
      " O vetor x é:  [0.     0.0245 0.049 ]\n",
      "\n",
      " y[ 0 ] é :  3.000000\n",
      "\n",
      " y[ 1 ] é :  3.237992\n",
      "\n",
      " y[ 2 ] é :  3.516998\n",
      "\n",
      " Portanto, temos que o erro absoluto é: \n",
      " |E| = 0.00000  <  0.01\n",
      "\n",
      " Após as definições temos a seguinte função:\n"
     ]
    },
    {
     "data": {
      "text/latex": [
       "$\\displaystyle y$"
      ],
      "text/plain": [
       "y"
      ]
     },
     "metadata": {},
     "output_type": "display_data"
    },
    {
     "name": "stdout",
     "output_type": "stream",
     "text": [
      "\n",
      "..........Método de Euler Ordem 4..........\n",
      "\n",
      "\n",
      " h =  0.4745\n",
      "\n",
      " O vetor x é:  [0.05   0.5245 0.999 ]\n",
      "\n",
      " y[ 0 ] é :  3.529300\n",
      "\n",
      " y[ 1 ] é :  5.671560\n",
      "\n",
      " y[ 2 ] é :  9.114157\n",
      "\n",
      " Portanto, temos que o erro absoluto é: \n",
      " |E| = 0.00000  <  0.01\n",
      "\n",
      " Após as definições temos a seguinte função:\n"
     ]
    },
    {
     "data": {
      "text/latex": [
       "$\\displaystyle 1$"
      ],
      "text/plain": [
       "1"
      ]
     },
     "metadata": {},
     "output_type": "display_data"
    },
    {
     "name": "stdout",
     "output_type": "stream",
     "text": [
      "\n",
      "..........Método de Euler Ordem 4..........\n",
      "\n",
      "\n",
      " h =  0.05\n",
      "\n",
      " O vetor x é:  [0.1  0.15 0.2 ]\n",
      "\n",
      " y[ 0 ] é :  9.089800\n",
      "\n",
      " y[ 1 ] é :  9.139800\n",
      "\n",
      " y[ 2 ] é :  9.189800\n",
      "\n",
      " Portanto, temos que o erro absoluto é: \n",
      " |E| = 0.00000  <  0.01\n"
     ]
    }
   ],
   "source": [
    "num = (1*y**2 + 0*y + 0)\n",
    "den = 1\n",
    "Fx = Lambda((x,y), num/den)\n",
    "x0 = 0 \n",
    "y0 = 3 \n",
    "b = 0.049\n",
    "n = 2 # Numero de divisões\n",
    "e = 0.01 # erro\n",
    "\n",
    "Q7 = Sol_Q(num, den, Fx, x0, y0, b, n, e)\n",
    "Q7.Runge_Kutta_Ordem_Quatro()\n",
    "\n",
    "num = (0*y**2 + 1*y + 0)\n",
    "Fx = Lambda((x,y), num/den)\n",
    "x0 = 0.05 \n",
    "y0 = 3.5293\n",
    "b = 0.999\n",
    "\n",
    "\n",
    "\n",
    "Q7 = Sol_Q(num, den, Fx, x0, y0, b, n, e)\n",
    "Q7.Runge_Kutta_Ordem_Quatro()\n",
    "\n",
    "num = (0*y**2 + 0*y + 1)\n",
    "Fx = Lambda((x,y), num/den)\n",
    "x0 = 0.1 \n",
    "y0 = 9.0898\n",
    "b = 0.2\n",
    "\n",
    "\n",
    "\n",
    "Q7 = Sol_Q(num, den, Fx, x0, y0, b, n, e)\n",
    "Q7.Runge_Kutta_Ordem_Quatro()"
   ]
  },
  {
   "cell_type": "code",
   "execution_count": null,
   "id": "2a6cbd72",
   "metadata": {},
   "outputs": [],
   "source": []
  }
 ],
 "metadata": {
  "kernelspec": {
   "display_name": "Python 3",
   "language": "python",
   "name": "python3"
  },
  "language_info": {
   "codemirror_mode": {
    "name": "ipython",
    "version": 3
   },
   "file_extension": ".py",
   "mimetype": "text/x-python",
   "name": "python",
   "nbconvert_exporter": "python",
   "pygments_lexer": "ipython3",
   "version": "3.8.8"
  }
 },
 "nbformat": 4,
 "nbformat_minor": 5
}
