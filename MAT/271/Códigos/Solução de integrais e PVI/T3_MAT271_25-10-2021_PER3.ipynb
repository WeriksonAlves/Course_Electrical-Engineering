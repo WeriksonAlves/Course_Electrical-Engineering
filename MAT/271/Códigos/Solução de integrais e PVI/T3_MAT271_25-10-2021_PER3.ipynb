{
 "cells": [
  {
   "cell_type": "code",
   "execution_count": 1,
   "id": "0a43144a",
   "metadata": {
    "ExecuteTime": {
     "end_time": "2021-10-24T23:32:51.278913Z",
     "start_time": "2021-10-24T23:32:50.646741Z"
    }
   },
   "outputs": [],
   "source": [
    "from sympy import * #var, Lambda, exp, log, sin, cos, tan, sqrt, ln\n",
    "#from Integrais import *\n",
    "from Euler import *\n",
    "x,y = var('x y')"
   ]
  },
  {
   "cell_type": "code",
   "execution_count": 2,
   "id": "58605702",
   "metadata": {
    "ExecuteTime": {
     "end_time": "2021-10-24T23:32:51.561662Z",
     "start_time": "2021-10-24T23:32:51.281631Z"
    }
   },
   "outputs": [
    {
     "name": "stdout",
     "output_type": "stream",
     "text": [
      "\n",
      " Após as definições temos a seguinte função:\n"
     ]
    },
    {
     "data": {
      "text/latex": [
       "$\\displaystyle - y^{2} - \\frac{y}{x} + \\frac{1}{x^{2}}$"
      ],
      "text/plain": [
       "-y**2 - y/x + x**(-2)"
      ]
     },
     "metadata": {},
     "output_type": "display_data"
    },
    {
     "name": "stdout",
     "output_type": "stream",
     "text": [
      "\n",
      "..........Método de Euler Ordem 2..........\n",
      "\n",
      "\n",
      " h =  0.15000000000000002\n",
      "\n",
      " y[1.0000 ] é : -1.000000\n",
      "\n",
      " y[1.1500 ] é : -0.867042\n",
      "\n",
      " y[1.3000 ] é : -0.764888\n",
      "\n",
      " y[1.4500 ] é : -0.683878\n",
      "\n",
      " y[1.6000 ] é : -0.618013\n",
      "\n",
      " Portanto, temos que o erro absoluto é: \n",
      " |E| = 0.00821  <  0.01\n"
     ]
    }
   ],
   "source": [
    "#Questão 1\n",
    "num = (1/x**2)-(y/x)-(y**2)\n",
    "den = 1\n",
    "Fx = Lambda((x,y), num/den)\n",
    "x0 = 1 \n",
    "y0 = -1 \n",
    "b = 1.6\n",
    "n = 4 # Numero de divisões\n",
    "e = 0.01 # erro\n",
    "\n",
    "Q1 = Sol_Q(num, den, Fx, x0, y0, b, n, e)\n",
    "Q1.Runge_Kutta_Ordem_Dois()"
   ]
  },
  {
   "cell_type": "code",
   "execution_count": 3,
   "id": "adafe564",
   "metadata": {
    "ExecuteTime": {
     "end_time": "2021-10-24T23:32:51.592639Z",
     "start_time": "2021-10-24T23:32:51.564648Z"
    }
   },
   "outputs": [
    {
     "name": "stdout",
     "output_type": "stream",
     "text": [
      "\n",
      " Após as definições temos a seguinte função:\n"
     ]
    },
    {
     "data": {
      "text/latex": [
       "$\\displaystyle 1 + \\frac{y}{x}$"
      ],
      "text/plain": [
       "1 + y/x"
      ]
     },
     "metadata": {},
     "output_type": "display_data"
    },
    {
     "name": "stdout",
     "output_type": "stream",
     "text": [
      "\n",
      "..........Método de Euler Ordem 2..........\n",
      "\n",
      "\n",
      " h =  0.2\n",
      "\n",
      " y[1.0000 ] é :  2.000000\n",
      "\n",
      " y[1.2000 ] é :  2.616667\n",
      "\n",
      " y[1.4000 ] é :  3.267063\n",
      "\n",
      " y[1.6000 ] é :  3.946287\n",
      "\n",
      " y[1.8000 ] é :  4.650684\n",
      "\n",
      " y[2.0000 ] é :  5.377426\n",
      "\n",
      " Portanto, temos que: \n",
      " |E1| < 0.02689\n",
      "\n",
      " Para uma melhor aproximação aumente o número de subintervalos\n"
     ]
    }
   ],
   "source": [
    "#Questão 2\n",
    "num = (1)+(y/x)\n",
    "den = 1\n",
    "Fx = Lambda((x,y), num/den)\n",
    "x0 = 1 \n",
    "y0 = 2 \n",
    "b = 2\n",
    "n = 5 # Numero de divisões\n",
    "e = 0.01 # erro\n",
    "\n",
    "Q2 = Sol_Q(num, den, Fx, x0, y0, b, n, e)\n",
    "Q2.Runge_Kutta_Ordem_Dois()"
   ]
  },
  {
   "cell_type": "code",
   "execution_count": 4,
   "id": "2c11d6b8",
   "metadata": {
    "ExecuteTime": {
     "end_time": "2021-10-24T23:32:51.671049Z",
     "start_time": "2021-10-24T23:32:51.595571Z"
    }
   },
   "outputs": [
    {
     "name": "stdout",
     "output_type": "stream",
     "text": [
      "\n",
      " Após as definições temos a seguinte função:\n"
     ]
    },
    {
     "data": {
      "text/latex": [
       "$\\displaystyle x y^{0.333333333333333}$"
      ],
      "text/plain": [
       "x*y**0.333333333333333"
      ]
     },
     "metadata": {},
     "output_type": "display_data"
    },
    {
     "name": "stdout",
     "output_type": "stream",
     "text": [
      "\n",
      " Após as definições temos a seguinte função:\n"
     ]
    },
    {
     "data": {
      "text/latex": [
       "$\\displaystyle x y^{0.333333333333333}$"
      ],
      "text/plain": [
       "x*y**0.333333333333333"
      ]
     },
     "metadata": {},
     "output_type": "display_data"
    },
    {
     "name": "stdout",
     "output_type": "stream",
     "text": [
      "\n",
      "..........Método de Euler Ordem 2..........\n",
      "\n",
      "\n",
      " h =  0.25\n",
      "\n",
      " y[0.0000 ] é :  1.000000\n",
      "\n",
      " y[0.2500 ] é :  1.031250\n",
      "\n",
      " y[0.5000 ] é :  1.127230\n",
      "\n",
      " y[0.7500 ] é :  1.293461\n",
      "\n",
      " y[1.0000 ] é :  1.538625\n",
      "\n",
      " y[1.2500 ] é :  1.873955\n",
      "\n",
      " y[1.5000 ] é :  2.312622\n",
      "\n",
      " y[1.7500 ] é :  2.869207\n",
      "\n",
      " y[2.0000 ] é :  3.559290\n",
      "\n",
      " Portanto, temos que: \n",
      " |E1| < 0.04771\n",
      "\n",
      " Para uma melhor aproximação aumente o número de subintervalos\n",
      "\n",
      "..........Método de Euler Ordem 2..........\n",
      "\n",
      "\n",
      " h =  0.25\n",
      "\n",
      " y[0.0000 ] é :  1.000000\n",
      "\n",
      " y[0.2500 ] é :  1.031250\n",
      "\n",
      " y[0.5000 ] é :  1.127230\n",
      "\n",
      " y[0.7500 ] é :  1.293461\n",
      "\n",
      " y[1.0000 ] é :  1.538625\n",
      "\n",
      " Portanto, temos que: \n",
      " |E1| < 0.03608\n",
      "\n",
      " Para uma melhor aproximação aumente o número de subintervalos\n"
     ]
    }
   ],
   "source": [
    "#Questão 5\n",
    "num = (x*y**(1/3))\n",
    "den = 1\n",
    "Fx = Lambda((x,y), num/den)\n",
    "x0 = 0 \n",
    "y0 = 1 \n",
    "#b = 1\n",
    "#n = 4 # Numero de divisões\n",
    "e = 0.01 # erro\n",
    "\n",
    "Q5a = Sol_Q(num, den, Fx, x0, y0, 2, 8, e)\n",
    "Q5b = Sol_Q(num, den, Fx, x0, y0, 1, 4, e)\n",
    "Q5a.Runge_Kutta_Ordem_Dois()\n",
    "Q5b.Runge_Kutta_Ordem_Dois()"
   ]
  },
  {
   "cell_type": "code",
   "execution_count": null,
   "id": "9e2fe791",
   "metadata": {},
   "outputs": [],
   "source": []
  }
 ],
 "metadata": {
  "kernelspec": {
   "display_name": "Python 3",
   "language": "python",
   "name": "python3"
  },
  "language_info": {
   "codemirror_mode": {
    "name": "ipython",
    "version": 3
   },
   "file_extension": ".py",
   "mimetype": "text/x-python",
   "name": "python",
   "nbconvert_exporter": "python",
   "pygments_lexer": "ipython3",
   "version": "3.8.8"
  }
 },
 "nbformat": 4,
 "nbformat_minor": 5
}
