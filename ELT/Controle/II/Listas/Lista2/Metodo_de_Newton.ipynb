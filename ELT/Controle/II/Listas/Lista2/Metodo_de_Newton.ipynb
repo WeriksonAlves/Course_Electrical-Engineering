{
 "cells": [
  {
   "cell_type": "code",
   "execution_count": 8,
   "id": "ecf62b5d",
   "metadata": {
    "ExecuteTime": {
     "end_time": "2021-09-16T02:03:21.607550Z",
     "start_time": "2021-09-16T02:03:18.036290Z"
    }
   },
   "outputs": [],
   "source": [
    "# importanto bibliotecas\n",
    "#from math import sin, cos, exp, log, sqrt\n",
    "from sympy import Derivative, Symbol, diff, cos, sin, exp, sqrt, log, var, tan, atan, pi\n",
    "import pandas as pd\n",
    "import dataframe_image as dfi"
   ]
  },
  {
   "cell_type": "code",
   "execution_count": 9,
   "id": "7172dc43",
   "metadata": {
    "ExecuteTime": {
     "end_time": "2021-09-03T00:28:09.708100Z",
     "start_time": "2021-09-03T00:28:09.697127Z"
    }
   },
   "outputs": [],
   "source": [
    "# Parametros Iniciais\n",
    "x0 = 0.001 #valor inicial\n",
    "a = 1 # intervalo inferior\n",
    "b = 2 # intervalo superior\n",
    "N = 10 # numero maximo de ciclos\n",
    "e = 0.01 # erro admitido\n",
    "count = 0 # contador"
   ]
  },
  {
   "cell_type": "code",
   "execution_count": 10,
   "id": "dc320f7b",
   "metadata": {
    "ExecuteTime": {
     "end_time": "2021-09-03T00:28:09.740010Z",
     "start_time": "2021-09-03T00:28:09.718069Z"
    }
   },
   "outputs": [],
   "source": [
    "def erro(x, x1, erro = 'abs'): # define o time de erro escolhido\n",
    "    if erro == 'rel':\n",
    "        return round(abs((x1 - x) / x1), 7) # retorna erro relativo\n",
    "    else:\n",
    "        return round(abs(x1 - x), 7) # retorna erro absoluto"
   ]
  },
  {
   "cell_type": "code",
   "execution_count": 11,
   "id": "0620bf5c",
   "metadata": {
    "ExecuteTime": {
     "end_time": "2021-09-03T00:28:09.771927Z",
     "start_time": "2021-09-03T00:28:09.746992Z"
    }
   },
   "outputs": [],
   "source": [
    "def f(): # define a função que quero encontrar a raiz\n",
    "    x = Symbol('x')   # definindo x como um simbolo\n",
    "    y = 180 + (atan(x/0.5) - atan(x/2) - atan(x/10)) * 180 / pi # define a função\n",
    "    y_der = Derivative(y, x).doit() # calcula a derivada de f(x)\n",
    "    return(y, y_der)"
   ]
  },
  {
   "cell_type": "code",
   "execution_count": 12,
   "id": "c47ce61b",
   "metadata": {
    "ExecuteTime": {
     "end_time": "2021-09-03T00:28:09.803842Z",
     "start_time": "2021-09-03T00:28:09.775914Z"
    }
   },
   "outputs": [],
   "source": [
    "def newton(x): # define o metodo de newton\n",
    "    y, y_der = f()\n",
    "    # calcula o valor da função e da derivada no ponto\n",
    "    y = y.subs('x', x).evalf()\n",
    "    y_der = y_der.subs('x', x).evalf()\n",
    "    return round(x - y/y_der, 6) #retorna xn+1 com 6 casas decimais"
   ]
  },
  {
   "cell_type": "code",
   "execution_count": 13,
   "id": "5c0680b6",
   "metadata": {
    "ExecuteTime": {
     "end_time": "2021-09-03T00:28:11.180230Z",
     "start_time": "2021-09-03T00:28:09.807829Z"
    }
   },
   "outputs": [
    {
     "name": "stdout",
     "output_type": "stream",
     "text": [
      "-2.244007\n",
      "10.612608\n",
      "51.879367\n",
      "484.422068\n",
      "33034.023109\n",
      "149120539.229320\n",
      "3.03736518196456e+15\n",
      "1.26013204892552e+30\n",
      "2.16897302536233e+59\n",
      "Para f(x) = (-180*atan(x/10) - 180*atan(x/2) + 180*atan(2.0*x))/pi + 180 temos: \n",
      " \n",
      " n                          10\n",
      "x        2.16897302536233e+59\n",
      "erro    6.42584637465803e+117\n",
      "Name: 9, dtype: object\n"
     ]
    },
    {
     "data": {
      "text/html": [
       "<style  type=\"text/css\" >\n",
       "</style><table id=\"T_f8950_\" ><thead>    <tr>        <th class=\"blank level0\" ></th>        <th class=\"col_heading level0 col0\" >n</th>        <th class=\"col_heading level0 col1\" >x</th>        <th class=\"col_heading level0 col2\" >erro</th>    </tr></thead><tbody>\n",
       "                <tr>\n",
       "                        <th id=\"T_f8950_level0_row0\" class=\"row_heading level0 row0\" >0</th>\n",
       "                        <td id=\"T_f8950_row0_col0\" class=\"data row0 col0\" >1</td>\n",
       "                        <td id=\"T_f8950_row0_col1\" class=\"data row0 col1\" >0.001000</td>\n",
       "                        <td id=\"T_f8950_row0_col2\" class=\"data row0 col2\" >2.2450070</td>\n",
       "            </tr>\n",
       "            <tr>\n",
       "                        <th id=\"T_f8950_level0_row1\" class=\"row_heading level0 row1\" >1</th>\n",
       "                        <td id=\"T_f8950_row1_col0\" class=\"data row1 col0\" >2</td>\n",
       "                        <td id=\"T_f8950_row1_col1\" class=\"data row1 col1\" >-2.244007</td>\n",
       "                        <td id=\"T_f8950_row1_col2\" class=\"data row1 col2\" >12.856615</td>\n",
       "            </tr>\n",
       "            <tr>\n",
       "                        <th id=\"T_f8950_level0_row2\" class=\"row_heading level0 row2\" >2</th>\n",
       "                        <td id=\"T_f8950_row2_col0\" class=\"data row2 col0\" >3</td>\n",
       "                        <td id=\"T_f8950_row2_col1\" class=\"data row2 col1\" >10.612608</td>\n",
       "                        <td id=\"T_f8950_row2_col2\" class=\"data row2 col2\" >41.266759</td>\n",
       "            </tr>\n",
       "            <tr>\n",
       "                        <th id=\"T_f8950_level0_row3\" class=\"row_heading level0 row3\" >3</th>\n",
       "                        <td id=\"T_f8950_row3_col0\" class=\"data row3 col0\" >4</td>\n",
       "                        <td id=\"T_f8950_row3_col1\" class=\"data row3 col1\" >51.879367</td>\n",
       "                        <td id=\"T_f8950_row3_col2\" class=\"data row3 col2\" >432.542701</td>\n",
       "            </tr>\n",
       "            <tr>\n",
       "                        <th id=\"T_f8950_level0_row4\" class=\"row_heading level0 row4\" >4</th>\n",
       "                        <td id=\"T_f8950_row4_col0\" class=\"data row4 col0\" >5</td>\n",
       "                        <td id=\"T_f8950_row4_col1\" class=\"data row4 col1\" >484.422068</td>\n",
       "                        <td id=\"T_f8950_row4_col2\" class=\"data row4 col2\" >32549.601041</td>\n",
       "            </tr>\n",
       "            <tr>\n",
       "                        <th id=\"T_f8950_level0_row5\" class=\"row_heading level0 row5\" >5</th>\n",
       "                        <td id=\"T_f8950_row5_col0\" class=\"data row5 col0\" >6</td>\n",
       "                        <td id=\"T_f8950_row5_col1\" class=\"data row5 col1\" >33034.023109</td>\n",
       "                        <td id=\"T_f8950_row5_col2\" class=\"data row5 col2\" >149087505.206211</td>\n",
       "            </tr>\n",
       "            <tr>\n",
       "                        <th id=\"T_f8950_level0_row6\" class=\"row_heading level0 row6\" >6</th>\n",
       "                        <td id=\"T_f8950_row6_col0\" class=\"data row6 col0\" >7</td>\n",
       "                        <td id=\"T_f8950_row6_col1\" class=\"data row6 col1\" >149120539.229320</td>\n",
       "                        <td id=\"T_f8950_row6_col2\" class=\"data row6 col2\" >3.03736503284402e+15</td>\n",
       "            </tr>\n",
       "            <tr>\n",
       "                        <th id=\"T_f8950_level0_row7\" class=\"row_heading level0 row7\" >7</th>\n",
       "                        <td id=\"T_f8950_row7_col0\" class=\"data row7 col0\" >8</td>\n",
       "                        <td id=\"T_f8950_row7_col1\" class=\"data row7 col1\" >3.03736518196456e+15</td>\n",
       "                        <td id=\"T_f8950_row7_col2\" class=\"data row7 col2\" >1.26013204892552e+30</td>\n",
       "            </tr>\n",
       "            <tr>\n",
       "                        <th id=\"T_f8950_level0_row8\" class=\"row_heading level0 row8\" >8</th>\n",
       "                        <td id=\"T_f8950_row8_col0\" class=\"data row8 col0\" >9</td>\n",
       "                        <td id=\"T_f8950_row8_col1\" class=\"data row8 col1\" >1.26013204892552e+30</td>\n",
       "                        <td id=\"T_f8950_row8_col2\" class=\"data row8 col2\" >2.16897302536233e+59</td>\n",
       "            </tr>\n",
       "            <tr>\n",
       "                        <th id=\"T_f8950_level0_row9\" class=\"row_heading level0 row9\" >9</th>\n",
       "                        <td id=\"T_f8950_row9_col0\" class=\"data row9 col0\" >10</td>\n",
       "                        <td id=\"T_f8950_row9_col1\" class=\"data row9 col1\" >2.16897302536233e+59</td>\n",
       "                        <td id=\"T_f8950_row9_col2\" class=\"data row9 col2\" >6.42584637465803e+117</td>\n",
       "            </tr>\n",
       "    </tbody></table>"
      ],
      "text/plain": [
       "<pandas.io.formats.style.Styler at 0x2cd28d3b3d0>"
      ]
     },
     "execution_count": 13,
     "metadata": {},
     "output_type": "execute_result"
    }
   ],
   "source": [
    "x = x0\n",
    "erro_atual = erro(x, newton(x))\n",
    "count = 1\n",
    "tabela = {'n': [1],\n",
    "          'x': [x],\n",
    "          'erro': [erro_atual]}\n",
    "\n",
    "while erro_atual > e and count < N:\n",
    "    x = newton(x)\n",
    "    print(x)\n",
    "    erro_atual = erro(x, newton(x))\n",
    "    count += 1\n",
    "    tabela['x'].append(x)\n",
    "    tabela['erro'].append(erro_atual)\n",
    "    tabela['n'].append(count)\n",
    "    \n",
    "df = pd.DataFrame(tabela)\n",
    "print(f'Para f(x) = {f()[0]} temos: \\n \\n {df.iloc[-1]}')\n",
    "#dfi.export(df, 'LISTA2_EXERCICIO1D.png')\n",
    "df.style"
   ]
  }
 ],
 "metadata": {
  "kernelspec": {
   "display_name": "Python 3",
   "language": "python",
   "name": "python3"
  },
  "language_info": {
   "codemirror_mode": {
    "name": "ipython",
    "version": 3
   },
   "file_extension": ".py",
   "mimetype": "text/x-python",
   "name": "python",
   "nbconvert_exporter": "python",
   "pygments_lexer": "ipython3",
   "version": "3.8.8"
  }
 },
 "nbformat": 4,
 "nbformat_minor": 5
}
