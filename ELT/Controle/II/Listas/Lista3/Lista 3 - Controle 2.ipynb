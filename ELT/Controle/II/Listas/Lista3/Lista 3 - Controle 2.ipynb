{
 "cells": [
  {
   "cell_type": "code",
   "execution_count": 1,
   "id": "a7faed31",
   "metadata": {
    "ExecuteTime": {
     "end_time": "2021-10-06T12:24:52.216265Z",
     "start_time": "2021-10-06T12:24:42.233227Z"
    }
   },
   "outputs": [],
   "source": [
    "from sympy import * #var, Lambda, exp, log, sin, cos, tan, sqrt, ln"
   ]
  },
  {
   "cell_type": "code",
   "execution_count": null,
   "id": "e1c75eb2",
   "metadata": {},
   "outputs": [],
   "source": []
  }
 ],
 "metadata": {
  "kernelspec": {
   "display_name": "Python 3",
   "language": "python",
   "name": "python3"
  },
  "language_info": {
   "codemirror_mode": {
    "name": "ipython",
    "version": 3
   },
   "file_extension": ".py",
   "mimetype": "text/x-python",
   "name": "python",
   "nbconvert_exporter": "python",
   "pygments_lexer": "ipython3",
   "version": "3.8.8"
  }
 },
 "nbformat": 4,
 "nbformat_minor": 5
}
