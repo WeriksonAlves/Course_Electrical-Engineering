{
 "cells": [
  {
   "cell_type": "code",
   "execution_count": 1,
   "id": "cde1af8a",
   "metadata": {
    "ExecuteTime": {
     "end_time": "2022-03-07T16:37:20.193533Z",
     "start_time": "2022-03-07T16:37:19.434301Z"
    }
   },
   "outputs": [],
   "source": [
    "from sympy import * #var, Lambda, exp, log, sin, cos, tan, sqrt, ln\n",
    "from Materia_da_P3 import *"
   ]
  },
  {
   "cell_type": "code",
   "execution_count": 2,
   "id": "c1d5b01d",
   "metadata": {
    "ExecuteTime": {
     "end_time": "2022-03-07T17:00:16.643936Z",
     "start_time": "2022-03-07T17:00:16.634962Z"
    }
   },
   "outputs": [],
   "source": [
    "#Questão 1\n",
    "Q1 = Anel(500,100e6)"
   ]
  },
  {
   "cell_type": "code",
   "execution_count": 3,
   "id": "e1a56693",
   "metadata": {
    "ExecuteTime": {
     "end_time": "2022-03-07T17:01:59.772574Z",
     "start_time": "2022-03-07T17:01:59.579052Z"
    }
   },
   "outputs": [
    {
     "name": "stdout",
     "output_type": "stream",
     "text": [
      "\n",
      "..........1F - Corrente de CC na barra K..........\n",
      "\n",
      "\n",
      " Portanto, para um curto monofásico em anel, temos que:\n",
      "i_A_pos =  -6.807908066009476j  pu.\n",
      "i_A_neg =  -6.807908066009476j  pu.\n",
      "i_A_zero =  -6.807908066009476j  pu.\n",
      "\n",
      "i_cc_A 5  =  -20.42372419802843j  pu.\n",
      "i_cc_B 5  =  0j  pu.\n",
      "i_cc_C 5  =  0j  pu.\n",
      "\n",
      "I_Base =  115470.05383792517  A.\n",
      "\n",
      "I_cc_A 5  =  2358328.5327172778 < -90  A.\n",
      "I_cc_B 5  =  0.0 < nan  A.\n",
      "I_cc_C 5  =  0.0 < nan  A.\n"
     ]
    }
   ],
   "source": [
    "Q1.Corrente_1F(5,3.4166j,7.8556j)"
   ]
  },
  {
   "cell_type": "code",
   "execution_count": 4,
   "id": "ce1a3a1b",
   "metadata": {
    "ExecuteTime": {
     "end_time": "2022-03-07T17:14:09.911483Z",
     "start_time": "2022-03-07T17:14:09.844669Z"
    }
   },
   "outputs": [
    {
     "name": "stdout",
     "output_type": "stream",
     "text": [
      "\n",
      "..........1F - Tensão na barra vizinha i..........\n",
      "\n",
      "\n",
      " Portanto, para um curto monofásico em anel, temos que:\n",
      "v_i_pos =  (88.30809868743532+0j)  pu.\n",
      "v_i_neg =  (11.691901312564676+0j)  pu.\n",
      "v_i_zero =  (8.609961331082184+0j)  pu.\n",
      "\n",
      "v_A_ 2  =  (0.6800623604378846+0j)  pu.\n",
      "v_B_ 2  =  (-0.4691806001851751-0.8660254037844386j)  pu.\n",
      "v_C_ 2  =  (-0.4691806001851751+0.8660254037844386j)  pu.\n",
      "\n",
      "V_Base =  288.6751345948129  V.\n",
      "\n",
      "V_A_ 2  =  196.31709343227251 < 0  V.\n",
      "V_B_ 2  =  284.3311501855599 < 180*(1.07429902501881 - pi)/pi  V.\n",
      "V_C_ 2  =  284.3311501855599 < 180*(-1.07429902501881 + pi)/pi  V.\n"
     ]
    }
   ],
   "source": [
    "Q1.Tensão_1F(2,1.7174j,1.2647j)"
   ]
  },
  {
   "cell_type": "code",
   "execution_count": 5,
   "id": "4c708d7c",
   "metadata": {
    "ExecuteTime": {
     "end_time": "2022-03-07T17:32:46.773724Z",
     "start_time": "2022-03-07T17:32:46.753766Z"
    }
   },
   "outputs": [
    {
     "name": "stdout",
     "output_type": "stream",
     "text": [
      "\n",
      "..........1F - Fluxo de corrente na linha vizinha p-q..........\n",
      "\n",
      "\n",
      " Portanto, para um curto monofásico em anel, temos que:\n",
      "i_p_q_pos =  -0.013817021512107492j  pu.\n",
      "i_p_q_neg =  -0.013817021512107492j  pu.\n",
      "i_p_q_zero = 0 pu.\n",
      "\n",
      "i_A_ 1 - 2  =  -3.4065370662866643j  pu.\n",
      "i_B_ 1 - 2  =  0.7385693873455833j  pu.\n",
      "i_C_ 1 - 2  =  0.7385693873455833j  pu.\n",
      "\n",
      "I_Base =  115470.05383792517  A.\n",
      "\n",
      "I_A_ 1 - 2  =  393353.0184450088 < -90  A.\n",
      "I_B_ 1 - 2  =  85282.6469198379 < 90  A.\n",
      "I_C_ 1 - 2  =  85282.6469198379 < 90  A.\n"
     ]
    }
   ],
   "source": [
    "Q1.Fluxo_1F(1,2,1.2161j,1.7174j,2.47j,0.2605j,1.2647j,10.63j)"
   ]
  },
  {
   "cell_type": "code",
   "execution_count": 6,
   "id": "fed37eeb",
   "metadata": {
    "ExecuteTime": {
     "end_time": "2022-03-07T17:45:56.090491Z",
     "start_time": "2022-03-07T17:45:56.077526Z"
    }
   },
   "outputs": [],
   "source": [
    "Q2 = Autotransformador(138e3,69e3,13.8e3,100e6)"
   ]
  },
  {
   "cell_type": "code",
   "execution_count": 8,
   "id": "95949908",
   "metadata": {
    "ExecuteTime": {
     "end_time": "2022-03-07T17:58:43.078603Z",
     "start_time": "2022-03-07T17:58:43.069624Z"
    }
   },
   "outputs": [
    {
     "name": "stdout",
     "output_type": "stream",
     "text": [
      "\n",
      "..........Conversão das impedâncias..........\n",
      "\n",
      "\n",
      " Após a mudança de base, temos que:\n",
      "z_HL =  120j % pu.\n",
      "z_HT =  68.45714285714286j % pu.\n",
      "z_LT =  42.285714285714285j % pu.\n",
      "\n",
      "z_H =  73.08571428571429j % pu.\n",
      "z_L =  46.91428571428571j % pu.\n",
      "z_T =  -4.62857142857143j % pu.\n",
      "\n"
     ]
    }
   ],
   "source": [
    "Q2.Impedancias(30j,5.99j,3.7j,25e6,8.75e6,8.75e6)"
   ]
  },
  {
   "cell_type": "code",
   "execution_count": 10,
   "id": "a1c2eaa9",
   "metadata": {
    "ExecuteTime": {
     "end_time": "2022-03-07T17:59:45.686276Z",
     "start_time": "2022-03-07T17:59:45.654759Z"
    }
   },
   "outputs": [
    {
     "name": "stdout",
     "output_type": "stream",
     "text": [
      "\n",
      "..........1F - Cálculo do curto circuito na barra..........\n",
      "\n",
      "\n",
      " Após definido o curto (em  H ), temos que:\n",
      "z1_pos =  8j % pu.\n",
      "z2_pos =  160j % pu.\n",
      "z3_pos =  -4.62857142857143j % pu.\n",
      "\n",
      "z_eq_pos =  7.619047619047619j % pu.\n",
      "\n",
      "z1_zero =  16j % pu.\n",
      "z2_zero =  68.28194926568759j % pu.\n",
      "z_eq_zero =  12.962576183507643j % pu.\n",
      "\n",
      "\n",
      " Portanto, para um curto monofásico na barra  H  de um autotransformador, temos que:\n",
      "i_A_pos =  -3.5460148627311003j  pu.\n",
      "i_A_neg =  -3.5460148627311003j  pu.\n",
      "i_A_zero =  -3.5460148627311003j  pu.\n",
      "\n",
      "i_cc_A H  =  -10.638044588193301j  pu.\n",
      "i_cc_B H  =  0j  pu.\n",
      "i_cc_C H  =  0j  pu.\n",
      "\n",
      "I_Base =  418.36976028233755  A.\n",
      "\n",
      "I_cc_A H  =  4450.636164235249 < -90  A.\n",
      "I_cc_B H  =  0.0 < nan  A.\n",
      "I_cc_C H  =  0.0 < nan  A.\n",
      "\n",
      "..........Correntes..........\n",
      "\n",
      "\n",
      "I_Base =  418.36976028233755  A.\n",
      "\n",
      "\n",
      " Para a sequência positiva, na barra  H , temos que:\n",
      "i_A_G1 =  -3.377157012124857j  pu ==> I_A_G1 =  -1412.9003695984918j  A.\n",
      "i_A_zh =  -0.16885785060624325j  pu ==> I_A_zh =  -70.64501847992476j  A.\n",
      "i_A_zl =  -0.16885785060624325j  pu ==> I_A_zl =  -70.64501847992476j  A.\n",
      "i_A_zt = 0 pu ==> I_A_zt = 0 A.\n",
      "i_A_G2 =  -0.16885785060624325j  pu ==> I_A_G2 =  -70.64501847992476j  A.\n",
      "\n",
      "\n",
      " Para a sequência negativa, o resultado é o mesmo da sequência positiva.\n",
      "\n",
      "\n",
      " Para a sequência zero, na barra  H , temos que:\n",
      "i_A_G1 =  -2.872842987875143j  pu ==> I_A_G1 =  -1201.910632166118j  A.\n",
      "i_A_zh =  -0.6731718748559574j  pu ==> I_A_zh =  -281.63475591229866j  A.\n",
      "i_A_zl =  0.02547987002959473j  pu ==> I_A_zl =  10.660007116306664j  A.\n",
      "i_A_zt =  -0.6986517448855522j  pu ==> I_A_zt =  -292.2947630286053j  A.\n",
      "i_A_G2 =  0.02547987002959473j  pu ==> I_A_G2 =  10.660007116306664j  A.\n",
      "\n",
      "\n",
      "..........Contribuição do  138000.0 ..........\n",
      "\n",
      "i_cc_A =  -9.627157012124858j  pu.\n",
      "i_cc_B =  0.5043140242497142j  pu.\n",
      "i_cc_C =  0.5043140242497142j  pu.\n",
      "\n",
      "I_Base =  418.36976028233755  A.\n",
      "\n",
      "I_cc_A =  4027.711371363102 < -90  A.\n",
      "I_cc_B =  210.9897374323739 < 90  A.\n",
      "I_cc_C =  210.9897374323739 < 90  A.\n",
      "\n",
      "..........Contribuição do Autotransformador..........\n",
      "\n",
      "i_cc_A =  -1.010887576068444j  pu.\n",
      "i_cc_B =  -0.5043140242497142j  pu.\n",
      "i_cc_C =  -0.5043140242497142j  pu.\n",
      "\n",
      "I_Base =  418.36976028233755  A.\n",
      "\n",
      "I_cc_A =  422.92479287214815 < -90  A.\n",
      "I_cc_B =  210.9897374323739 < -90  A.\n",
      "I_cc_C =  210.9897374323739 < -90  A.\n",
      "\n",
      "..........Contribuição do  69000.0 ..........\n",
      "\n",
      "i_cc_A =  -0.3122358311828918j  pu.\n",
      "i_cc_B =  0.19433772063583798j  pu.\n",
      "i_cc_C =  0.19433772063583798j  pu.\n",
      "\n",
      "I_Base =  836.7395205646751  A.\n",
      "\n",
      "I_cc_A =  261.2600596870857 < -90  A.\n",
      "I_cc_B =  162.61005119246283 < 90  A.\n",
      "I_cc_C =  162.61005119246283 < 90  A.\n",
      "\n",
      "..........Contribuição da Corrente no Neutro do Autotransformador..........\n",
      "\n",
      "I_NH = (I_Atf - I_A_G2)-(I_B_G2 - I_B_G2)-(I_Ctf - I_C_G2) =  908.8643104347359j  A.\n",
      "\n",
      "..........Contribuição da Corrente no Delta do Autotransformador..........\n",
      "\n",
      "\n",
      "I_Base =  2415.458937198068  A.\n",
      "\n",
      "I_Delta = i_A_z_zt*I_Base =  -1687.5646011728313j  A.\n"
     ]
    }
   ],
   "source": [
    "Q2.Curto_1F('H',8j,16j,40j,80j)"
   ]
  },
  {
   "cell_type": "code",
   "execution_count": null,
   "id": "dece4c71",
   "metadata": {},
   "outputs": [],
   "source": []
  }
 ],
 "metadata": {
  "kernelspec": {
   "display_name": "Python 3",
   "language": "python",
   "name": "python3"
  },
  "language_info": {
   "codemirror_mode": {
    "name": "ipython",
    "version": 3
   },
   "file_extension": ".py",
   "mimetype": "text/x-python",
   "name": "python",
   "nbconvert_exporter": "python",
   "pygments_lexer": "ipython3",
   "version": "3.8.8"
  }
 },
 "nbformat": 4,
 "nbformat_minor": 5
}
