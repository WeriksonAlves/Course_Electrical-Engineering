{
 "cells": [
  {
   "cell_type": "code",
   "execution_count": 1,
   "id": "ff2b9290",
   "metadata": {
    "ExecuteTime": {
     "end_time": "2022-03-10T02:34:20.084455Z",
     "start_time": "2022-03-10T02:34:19.198784Z"
    }
   },
   "outputs": [],
   "source": [
    "from sympy import * #var, Lambda, exp, log, sin, cos, tan, sqrt, ln\n",
    "from GTD_P3 import *"
   ]
  },
  {
   "cell_type": "code",
   "execution_count": 2,
   "id": "d6170a65",
   "metadata": {
    "ExecuteTime": {
     "end_time": "2022-03-10T02:34:20.100486Z",
     "start_time": "2022-03-10T02:34:20.089503Z"
    }
   },
   "outputs": [],
   "source": [
    "Raio = 0.02        #Em metros    \n",
    "Distanciamneto = 1 #Em metros    \n",
    "Resistencia = 0\n",
    "Condutancia = 0\n",
    "Frequencia = 60 #Em Hertz\n",
    "V0 = complex(130,0)\n",
    "I0 = complex(46.985,-17.101)\n",
    "Comprimento = 200e3 #Em metros\n",
    "Xinicial = 0\n",
    "Xfinal = 5000\n",
    "\n",
    "Q1 = LT(Raio,Distanciamneto,Resistencia,Condutancia,Frequencia,V0,I0,Comprimento,Xinicial,Xfinal)"
   ]
  },
  {
   "cell_type": "code",
   "execution_count": 3,
   "id": "6ea3008f",
   "metadata": {
    "ExecuteTime": {
     "end_time": "2022-03-10T02:36:32.782995Z",
     "start_time": "2022-03-10T02:34:20.101415Z"
    }
   },
   "outputs": [
    {
     "name": "stdout",
     "output_type": "stream",
     "text": [
      "O valor de L é:  1.66480960436490e-6  H/m\n",
      "O valor de C é:  7.10061718431476e-12  F/m\n",
      "O valor de z é:  0.0006276184347238182j  ohns/m\n",
      "O valor de y é:  2.676869613863604e-09j  S/m\n",
      "O valor de Zc é:  (484.2105378754114+0j)  ohns\n",
      "O valor de Gama é:  1.2961684755512406e-06j  1/m\n",
      "O valor de Alpha é:  0.0\n",
      "O valor de Beta é:  1.2961684755512406e-06  1/m\n"
     ]
    },
    {
     "data": {
      "image/png": "[encoded data removed]",
      "text/plain": [
       "<Figure size 432x288 with 1 Axes>"
      ]
     },
     "metadata": {
      "needs_background": "light"
     },
     "output_type": "display_data"
    }
   ],
   "source": [
    "Q1.Solução_Grafica()"
   ]
  },
  {
   "cell_type": "code",
   "execution_count": null,
   "id": "7d1a0f73",
   "metadata": {},
   "outputs": [],
   "source": []
  }
 ],
 "metadata": {
  "kernelspec": {
   "display_name": "Python 3",
   "language": "python",
   "name": "python3"
  },
  "language_info": {
   "codemirror_mode": {
    "name": "ipython",
    "version": 3
   },
   "file_extension": ".py",
   "mimetype": "text/x-python",
   "name": "python",
   "nbconvert_exporter": "python",
   "pygments_lexer": "ipython3",
   "version": "3.8.8"
  }
 },
 "nbformat": 4,
 "nbformat_minor": 5
}
